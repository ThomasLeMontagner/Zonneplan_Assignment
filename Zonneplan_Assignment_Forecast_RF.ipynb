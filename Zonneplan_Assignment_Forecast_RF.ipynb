{
 "cells": [
  {
   "cell_type": "markdown",
   "id": "73f65468",
   "metadata": {},
   "source": [
    "# Approach\n",
    "1. Clean data\n",
    "2. Split with customer with solar panels not installed with Zonneplan (category_1) and the others (category_2)\n",
    "3. For category_2: \n",
    "    * set pv to 0 when NaN\n",
    "    * consumption = p1 + pv\n",
    "4. For category_1:\n",
    "    * infer pv_forecast: average the pv of category_2 at a given time --> pv_avg\n",
    "    * infer the consumption of category_1: consumption = p1 + pv_avg\n",
    "5. Train the data\n",
    "6. Test the model\n",
    "    * Infer the consumption of each household\n",
    "    * Compare with the results by comparing to p1"
   ]
  },
  {
   "cell_type": "markdown",
   "id": "f19c7bda",
   "metadata": {},
   "source": [
    "# Libraries"
   ]
  },
  {
   "cell_type": "code",
   "execution_count": 1,
   "id": "6432898a",
   "metadata": {},
   "outputs": [],
   "source": [
    "import pandas as pd\n",
    "import numpy as np\n",
    "from datetime import datetime, timedelta\n",
    "from matplotlib import pyplot as plt"
   ]
  },
  {
   "cell_type": "markdown",
   "id": "1d953a34",
   "metadata": {},
   "source": [
    "# Load Data"
   ]
  },
  {
   "cell_type": "code",
   "execution_count": 2,
   "id": "7f101a13",
   "metadata": {},
   "outputs": [],
   "source": [
    "contracts = pd.read_csv('datafiles_assignment_data_scientist/contracten_database_table.csv', sep = ';')\n",
    "data = pd.read_json('datafiles_assignment_data_scientist/actual_values.json')\n",
    "forecast_values = pd.read_json('datafiles_assignment_data_scientist/forecast_values.json')\n",
    "weather_actual = pd.read_json('datafiles_assignment_data_scientist/weather_actual.json')\n",
    "weather_forecast = pd.read_json('datafiles_assignment_data_scientist/weather_forecast.json')\n",
    "prices = pd.read_json('datafiles_assignment_data_scientist/price_epex.json')"
   ]
  },
  {
   "cell_type": "markdown",
   "id": "2a8d29ad",
   "metadata": {},
   "source": [
    "# Data Preprocessing\n",
    "## Data cleaning\n",
    "Remove outliers using threshold defined in EDA."
   ]
  },
  {
   "cell_type": "code",
   "execution_count": 3,
   "id": "85e16a88",
   "metadata": {},
   "outputs": [],
   "source": [
    "# remove outlier\n",
    "threshold = 5*10e3\n",
    "data = data[(data.p1_actual_kwh > -threshold) & (data.p1_actual_kwh < threshold)].copy()"
   ]
  },
  {
   "cell_type": "markdown",
   "id": "7306587c",
   "metadata": {},
   "source": [
    "## Split: with solar panels from/not from Zonneplan"
   ]
  },
  {
   "cell_type": "code",
   "execution_count": 4,
   "id": "70c5e576",
   "metadata": {},
   "outputs": [],
   "source": [
    "# Set of contract_id having solar panels with Zonneplan (based of pv_actual_kwh)\n",
    "pv_w_zp_contract = set(data[~data['pv_actual_kwh'].isnull()]['contract_id'])\n",
    "\n",
    "# (Inferred) Set of contract_id having solar panel not with Zonneplan\n",
    "# To do so, we assume that contract_id with p1_actual_kwh < 0 have solar panels\n",
    "customer_w_pv = set(data[data['p1_actual_kwh'] < 0]['contract_id'])\n",
    "pv_wo_zp_contract = customer_w_pv - pv_w_zp_contract"
   ]
  },
  {
   "cell_type": "markdown",
   "id": "18b9dd7a",
   "metadata": {},
   "source": [
    "## Handling of missing values\n",
    "Set to 0 Nan of p1_actual_kwh"
   ]
  },
  {
   "cell_type": "code",
   "execution_count": 5,
   "id": "e8c5f76e",
   "metadata": {},
   "outputs": [],
   "source": [
    "data['pv_actual_kwh'] = data['pv_actual_kwh'].replace(np.nan, 0)"
   ]
  },
  {
   "cell_type": "markdown",
   "id": "e4157c1c",
   "metadata": {},
   "source": [
    "## Add features"
   ]
  },
  {
   "cell_type": "code",
   "execution_count": 6,
   "id": "25a3cd73",
   "metadata": {},
   "outputs": [],
   "source": [
    "data['hour'] = data.timestamp.dt.hour"
   ]
  },
  {
   "cell_type": "code",
   "execution_count": 7,
   "id": "2bae24cb",
   "metadata": {},
   "outputs": [],
   "source": [
    "# price\n",
    "prices.set_index('timestamp', inplace= True)"
   ]
  },
  {
   "cell_type": "code",
   "execution_count": 8,
   "id": "47a2f8d5",
   "metadata": {},
   "outputs": [],
   "source": [
    "data['price'] = data.apply(lambda row : prices.loc[row['timestamp']][0], axis = 1)"
   ]
  },
  {
   "cell_type": "markdown",
   "id": "908d813c",
   "metadata": {},
   "source": [
    "### Split: Training and Test"
   ]
  },
  {
   "cell_type": "code",
   "execution_count": 9,
   "id": "6656fe73",
   "metadata": {},
   "outputs": [],
   "source": [
    "date_split = data.timestamp.min() + timedelta(days=20)"
   ]
  },
  {
   "cell_type": "code",
   "execution_count": 10,
   "id": "9fbde73a",
   "metadata": {},
   "outputs": [],
   "source": [
    "train_data = data[data.timestamp < date_split].copy()\n",
    "test_data = data[data.timestamp >= date_split].copy()"
   ]
  },
  {
   "cell_type": "code",
   "execution_count": 11,
   "id": "471b1eba",
   "metadata": {},
   "outputs": [],
   "source": [
    "# Remove pv_actual_kwh and p1_actual_kwh from test\n",
    "#test_data.drop(['p1_actual_kwh', 'pv_actual_kwh'], axis = 1, inplace = True)"
   ]
  },
  {
   "cell_type": "markdown",
   "id": "292816ea",
   "metadata": {},
   "source": [
    "## Feature selection\n",
    "\n",
    "Consumption:\n",
    "* for customers with solar panels installed by Zonneplan: p1_actual_kwh + pv_actual_kwh (or pv_forecast_kwh for test data)\n",
    "* for customers with solar panels not installed by Zonneplan: get the averaged pv_actual_kwh/pv_forecast_kwh an add it to the p1_actual_pwh"
   ]
  },
  {
   "cell_type": "code",
   "execution_count": 12,
   "id": "ec733634",
   "metadata": {},
   "outputs": [],
   "source": [
    "# Deduce consumption\n",
    "train_data['consumption'] = train_data.apply(lambda row : row['p1_actual_kwh'] + row['pv_actual_kwh'], axis = 1)"
   ]
  },
  {
   "cell_type": "code",
   "execution_count": 13,
   "id": "206798bd",
   "metadata": {},
   "outputs": [],
   "source": [
    "train_data.drop(['pv_actual_kwh', 'p1_actual_kwh', 'pv_forecast_kwh', 'timestamp'], axis = 1, inplace = True)"
   ]
  },
  {
   "cell_type": "code",
   "execution_count": 14,
   "id": "99567406",
   "metadata": {},
   "outputs": [
    {
     "data": {
      "text/html": [
       "<div>\n",
       "<style scoped>\n",
       "    .dataframe tbody tr th:only-of-type {\n",
       "        vertical-align: middle;\n",
       "    }\n",
       "\n",
       "    .dataframe tbody tr th {\n",
       "        vertical-align: top;\n",
       "    }\n",
       "\n",
       "    .dataframe thead th {\n",
       "        text-align: right;\n",
       "    }\n",
       "</style>\n",
       "<table border=\"1\" class=\"dataframe\">\n",
       "  <thead>\n",
       "    <tr style=\"text-align: right;\">\n",
       "      <th></th>\n",
       "      <th>contract_id</th>\n",
       "      <th>hour</th>\n",
       "      <th>price</th>\n",
       "      <th>consumption</th>\n",
       "    </tr>\n",
       "  </thead>\n",
       "  <tbody>\n",
       "    <tr>\n",
       "      <th>768</th>\n",
       "      <td>105587</td>\n",
       "      <td>0</td>\n",
       "      <td>0.307</td>\n",
       "      <td>67.0</td>\n",
       "    </tr>\n",
       "    <tr>\n",
       "      <th>769</th>\n",
       "      <td>105587</td>\n",
       "      <td>0</td>\n",
       "      <td>0.307</td>\n",
       "      <td>78.0</td>\n",
       "    </tr>\n",
       "    <tr>\n",
       "      <th>770</th>\n",
       "      <td>105587</td>\n",
       "      <td>0</td>\n",
       "      <td>0.307</td>\n",
       "      <td>59.0</td>\n",
       "    </tr>\n",
       "    <tr>\n",
       "      <th>771</th>\n",
       "      <td>105587</td>\n",
       "      <td>0</td>\n",
       "      <td>0.307</td>\n",
       "      <td>60.0</td>\n",
       "    </tr>\n",
       "    <tr>\n",
       "      <th>772</th>\n",
       "      <td>105587</td>\n",
       "      <td>1</td>\n",
       "      <td>0.303</td>\n",
       "      <td>84.0</td>\n",
       "    </tr>\n",
       "  </tbody>\n",
       "</table>\n",
       "</div>"
      ],
      "text/plain": [
       "     contract_id  hour  price  consumption\n",
       "768       105587     0  0.307         67.0\n",
       "769       105587     0  0.307         78.0\n",
       "770       105587     0  0.307         59.0\n",
       "771       105587     0  0.307         60.0\n",
       "772       105587     1  0.303         84.0"
      ]
     },
     "execution_count": 14,
     "metadata": {},
     "output_type": "execute_result"
    }
   ],
   "source": [
    "train_data.head()"
   ]
  },
  {
   "cell_type": "markdown",
   "id": "617cc3ea",
   "metadata": {},
   "source": [
    "# Training Forecast using Random Forest\n"
   ]
  },
  {
   "cell_type": "markdown",
   "id": "f84e77fe",
   "metadata": {},
   "source": [
    "# Test"
   ]
  },
  {
   "cell_type": "markdown",
   "id": "1a50d1c0",
   "metadata": {},
   "source": [
    "# Forecast period January 1 to 7"
   ]
  }
 ],
 "metadata": {
  "kernelspec": {
   "display_name": "Python 3 (ipykernel)",
   "language": "python",
   "name": "python3"
  },
  "language_info": {
   "codemirror_mode": {
    "name": "ipython",
    "version": 3
   },
   "file_extension": ".py",
   "mimetype": "text/x-python",
   "name": "python",
   "nbconvert_exporter": "python",
   "pygments_lexer": "ipython3",
   "version": "3.10.6"
  }
 },
 "nbformat": 4,
 "nbformat_minor": 5
}
