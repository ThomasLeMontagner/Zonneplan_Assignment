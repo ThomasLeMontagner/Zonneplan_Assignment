{
 "cells": [
  {
   "cell_type": "markdown",
   "id": "f4136ad1",
   "metadata": {},
   "source": [
    "# Approach\n",
    "1. Clean data\n",
    "2. Split with customer with solar panels not installed with Zonneplan (category_1) and the others (category_2)\n",
    "3. For category_2: \n",
    "    * set pv to 0 when NaN\n",
    "    * consumption = p1 + pv\n",
    "4. For category_1:\n",
    "    * infer pv_forecast: average the pv of category_2 at a given time --> pv_avg\n",
    "    * infer the consumption of category_1: consumption = p1 + pv_avg\n",
    "5. Train the data\n",
    "6. Test the model\n",
    "    * Infer the consumption of each household\n",
    "    * Compare with the results by comparing to p1"
   ]
  },
  {
   "cell_type": "markdown",
   "id": "f19c7bda",
   "metadata": {},
   "source": [
    "# Libraries"
   ]
  },
  {
   "cell_type": "code",
   "execution_count": 1,
   "id": "6432898a",
   "metadata": {},
   "outputs": [],
   "source": [
    "import pandas as pd\n",
    "import numpy as np\n",
    "from datetime import datetime, timedelta\n",
    "from matplotlib import pyplot as plt"
   ]
  },
  {
   "cell_type": "markdown",
   "id": "1d953a34",
   "metadata": {},
   "source": [
    "# Load Data"
   ]
  },
  {
   "cell_type": "code",
   "execution_count": 2,
   "id": "7f101a13",
   "metadata": {},
   "outputs": [],
   "source": [
    "contracts = pd.read_csv('datafiles_assignment_data_scientist/contracten_database_table.csv', sep = ';')\n",
    "data = pd.read_json('datafiles_assignment_data_scientist/actual_values.json')\n",
    "forecast_values = pd.read_json('datafiles_assignment_data_scientist/forecast_values.json')\n",
    "weather_actual = pd.read_json('datafiles_assignment_data_scientist/weather_actual.json')\n",
    "weather_forecast = pd.read_json('datafiles_assignment_data_scientist/weather_forecast.json')\n",
    "prices = pd.read_json('datafiles_assignment_data_scientist/price_epex.json')"
   ]
  },
  {
   "cell_type": "markdown",
   "id": "2a8d29ad",
   "metadata": {},
   "source": [
    "# Data Preprocessing\n",
    "## Data cleaning\n",
    "Remove outliers using threshold defined in EDA."
   ]
  },
  {
   "cell_type": "code",
   "execution_count": 3,
   "id": "85e16a88",
   "metadata": {},
   "outputs": [],
   "source": [
    "# remove outlier\n",
    "threshold = 5*10e3\n",
    "data = data[(data.p1_actual_kwh > -threshold) & (data.p1_actual_kwh < threshold)].copy()"
   ]
  },
  {
   "cell_type": "markdown",
   "id": "7306587c",
   "metadata": {},
   "source": [
    "## Split: with solar panels from/not from Zonneplan"
   ]
  },
  {
   "cell_type": "code",
   "execution_count": 4,
   "id": "70c5e576",
   "metadata": {},
   "outputs": [],
   "source": [
    "# Set of contract_id having solar panels with Zonneplan (based of pv_actual_kwh)\n",
    "pv_w_zp_contract = set(data[~data['pv_actual_kwh'].isnull()]['contract_id'])\n",
    "\n",
    "# (Inferred) Set of contract_id having solar panel not with Zonneplan\n",
    "# To do so, we assume that contract_id with p1_actual_kwh < 0 have solar panels\n",
    "customer_w_pv = set(data[data['p1_actual_kwh'] < 0]['contract_id'])\n",
    "pv_wo_zp_contract = customer_w_pv - pv_w_zp_contract"
   ]
  },
  {
   "cell_type": "code",
   "execution_count": 5,
   "id": "0c61c03b",
   "metadata": {},
   "outputs": [],
   "source": [
    "# Add column to indicate if the household has solar panels NOT installed by Zonneplan (1 if True, 0 otherwise)\n",
    "data['not_ZP_pv'] = data.apply(lambda row : 1 if row.contract_id in pv_wo_zp_contract else 0, axis = 1)"
   ]
  },
  {
   "cell_type": "code",
   "execution_count": 6,
   "id": "ef1cbdeb",
   "metadata": {},
   "outputs": [],
   "source": [
    "# Add column to indicate if the customer has solar panels\n",
    "data['has_pv'] = data.apply(lambda row : 1 if row.contract_id in customer_w_pv else 0, axis = 1)"
   ]
  },
  {
   "cell_type": "markdown",
   "id": "18b9dd7a",
   "metadata": {},
   "source": [
    "## Handling of missing values\n",
    "Set to 0 Nan of p1_actual_kwh"
   ]
  },
  {
   "cell_type": "code",
   "execution_count": 7,
   "id": "e8c5f76e",
   "metadata": {},
   "outputs": [],
   "source": [
    "data['pv_actual_kwh'] = data['pv_actual_kwh'].replace(np.nan, 0)"
   ]
  },
  {
   "cell_type": "markdown",
   "id": "908d813c",
   "metadata": {},
   "source": [
    "### Split: Training and Test"
   ]
  },
  {
   "cell_type": "code",
   "execution_count": 8,
   "id": "6656fe73",
   "metadata": {},
   "outputs": [],
   "source": [
    "date_split = data.timestamp.min() + timedelta(days=20)"
   ]
  },
  {
   "cell_type": "code",
   "execution_count": 9,
   "id": "9fbde73a",
   "metadata": {},
   "outputs": [],
   "source": [
    "train_data = data[data.timestamp < date_split].copy()\n",
    "test_data = data[data.timestamp >= date_split].copy()"
   ]
  },
  {
   "cell_type": "code",
   "execution_count": 10,
   "id": "f21105d3",
   "metadata": {},
   "outputs": [],
   "source": [
    "# Remove pv_actual_kwh and p1_actual_kwh from test\n",
    "#test_data.drop(['p1_actual_kwh', 'pv_actual_kwh'], axis = 1, inplace = True)"
   ]
  },
  {
   "cell_type": "markdown",
   "id": "292816ea",
   "metadata": {},
   "source": [
    "## Feature selection\n",
    "\n",
    "Consumption:\n",
    "* for customers with solar panels installed by Zonneplan: p1_actual_kwh + pv_actual_kwh (or pv_forecast_kwh for test data)\n",
    "* for customers with solar panels not installed by Zonneplan: get the averaged pv_actual_kwh/pv_forecast_kwh an add it to the p1_actual_pwh"
   ]
  },
  {
   "cell_type": "code",
   "execution_count": 11,
   "id": "ddacbc96",
   "metadata": {},
   "outputs": [],
   "source": [
    "# Average solar power production on train data\n",
    "train_pv_avg = train_data[(train_data['not_ZP_pv'] == 0) & \\\n",
    "                          (train_data['has_pv'] == 1)].groupby('timestamp')['pv_actual_kwh'].mean()"
   ]
  },
  {
   "cell_type": "code",
   "execution_count": 12,
   "id": "660413df",
   "metadata": {},
   "outputs": [],
   "source": [
    "# Deduce consumption\n",
    "train_data['consumption'] = train_data.apply(lambda row : row['p1_actual_kwh'] + train_pv_avg[row['timestamp']] \\\n",
    "                                             if row['not_ZP_pv'] == 1 \\\n",
    "                                             else row['p1_actual_kwh'] + row['pv_actual_kwh'], \n",
    "                                             axis = 1)"
   ]
  },
  {
   "cell_type": "code",
   "execution_count": 13,
   "id": "e3ccb3ae",
   "metadata": {},
   "outputs": [
    {
     "data": {
      "text/html": [
       "<div>\n",
       "<style scoped>\n",
       "    .dataframe tbody tr th:only-of-type {\n",
       "        vertical-align: middle;\n",
       "    }\n",
       "\n",
       "    .dataframe tbody tr th {\n",
       "        vertical-align: top;\n",
       "    }\n",
       "\n",
       "    .dataframe thead th {\n",
       "        text-align: right;\n",
       "    }\n",
       "</style>\n",
       "<table border=\"1\" class=\"dataframe\">\n",
       "  <thead>\n",
       "    <tr style=\"text-align: right;\">\n",
       "      <th></th>\n",
       "      <th>contract_id</th>\n",
       "      <th>timestamp</th>\n",
       "      <th>pv_actual_kwh</th>\n",
       "      <th>p1_actual_kwh</th>\n",
       "      <th>pv_forecast_kwh</th>\n",
       "      <th>not_ZP_pv</th>\n",
       "      <th>has_pv</th>\n",
       "      <th>consumption</th>\n",
       "    </tr>\n",
       "  </thead>\n",
       "  <tbody>\n",
       "    <tr>\n",
       "      <th>768</th>\n",
       "      <td>105587</td>\n",
       "      <td>2022-12-09 00:00:00</td>\n",
       "      <td>0.0</td>\n",
       "      <td>67.0</td>\n",
       "      <td>0.0</td>\n",
       "      <td>0</td>\n",
       "      <td>1</td>\n",
       "      <td>67.0</td>\n",
       "    </tr>\n",
       "    <tr>\n",
       "      <th>769</th>\n",
       "      <td>105587</td>\n",
       "      <td>2022-12-09 00:15:00</td>\n",
       "      <td>0.0</td>\n",
       "      <td>78.0</td>\n",
       "      <td>0.0</td>\n",
       "      <td>0</td>\n",
       "      <td>1</td>\n",
       "      <td>78.0</td>\n",
       "    </tr>\n",
       "    <tr>\n",
       "      <th>770</th>\n",
       "      <td>105587</td>\n",
       "      <td>2022-12-09 00:30:00</td>\n",
       "      <td>0.0</td>\n",
       "      <td>59.0</td>\n",
       "      <td>0.0</td>\n",
       "      <td>0</td>\n",
       "      <td>1</td>\n",
       "      <td>59.0</td>\n",
       "    </tr>\n",
       "    <tr>\n",
       "      <th>771</th>\n",
       "      <td>105587</td>\n",
       "      <td>2022-12-09 00:45:00</td>\n",
       "      <td>0.0</td>\n",
       "      <td>60.0</td>\n",
       "      <td>0.0</td>\n",
       "      <td>0</td>\n",
       "      <td>1</td>\n",
       "      <td>60.0</td>\n",
       "    </tr>\n",
       "    <tr>\n",
       "      <th>772</th>\n",
       "      <td>105587</td>\n",
       "      <td>2022-12-09 01:00:00</td>\n",
       "      <td>0.0</td>\n",
       "      <td>84.0</td>\n",
       "      <td>0.0</td>\n",
       "      <td>0</td>\n",
       "      <td>1</td>\n",
       "      <td>84.0</td>\n",
       "    </tr>\n",
       "  </tbody>\n",
       "</table>\n",
       "</div>"
      ],
      "text/plain": [
       "     contract_id           timestamp  pv_actual_kwh  p1_actual_kwh  \\\n",
       "768       105587 2022-12-09 00:00:00            0.0           67.0   \n",
       "769       105587 2022-12-09 00:15:00            0.0           78.0   \n",
       "770       105587 2022-12-09 00:30:00            0.0           59.0   \n",
       "771       105587 2022-12-09 00:45:00            0.0           60.0   \n",
       "772       105587 2022-12-09 01:00:00            0.0           84.0   \n",
       "\n",
       "     pv_forecast_kwh  not_ZP_pv  has_pv  consumption  \n",
       "768              0.0          0       1         67.0  \n",
       "769              0.0          0       1         78.0  \n",
       "770              0.0          0       1         59.0  \n",
       "771              0.0          0       1         60.0  \n",
       "772              0.0          0       1         84.0  "
      ]
     },
     "execution_count": 13,
     "metadata": {},
     "output_type": "execute_result"
    }
   ],
   "source": [
    "train_data.head()"
   ]
  },
  {
   "cell_type": "markdown",
   "id": "617cc3ea",
   "metadata": {},
   "source": [
    "# Training Forecast\n",
    "**Methods:**\n",
    "* Naive methods: Average previous consumption off all households together by considering feature like time\n",
    "* Conidering additional pv input: Predict the solar production for household with solar without Zonneplan\n",
    "* fine-tune per customer: create model per customer"
   ]
  },
  {
   "cell_type": "code",
   "execution_count": 14,
   "id": "ecb9e817",
   "metadata": {},
   "outputs": [],
   "source": [
    "# Get the average consumption of all household at given hour\n",
    "def consumption_avg_all(data):\n",
    "    '''\n",
    "    Get the average consumption of all household at given time.\n",
    "    Input: \n",
    "        - data: DataFrame with at least the following columns: contract_id, timestamp, consumption\n",
    "    Return:\n",
    "        - DataFrame with the average consumption of all household per hour of the day\n",
    "    '''\n",
    "    return data.groupby(data['timestamp'].dt.hour)['consumption'].mean()"
   ]
  },
  {
   "cell_type": "code",
   "execution_count": 15,
   "id": "d9217cbe",
   "metadata": {},
   "outputs": [],
   "source": [
    "# Get the average consumption per contract at given hour\n",
    "def consumption_avg_per_contract(data):\n",
    "    '''\n",
    "    Get the average consumption of per household at given time.\n",
    "    Input: \n",
    "        - data: DataFrame with at least the following columns: contract_id, timestamp, consumption\n",
    "    Return:\n",
    "        - DataFrame with the average consumption per household per hour of the day\n",
    "    '''\n",
    "    return data.groupby(['contract_id', data['timestamp'].dt.hour])['consumption'].mean()"
   ]
  },
  {
   "cell_type": "markdown",
   "id": "f84e77fe",
   "metadata": {},
   "source": [
    "# Test"
   ]
  },
  {
   "cell_type": "code",
   "execution_count": 16,
   "id": "d8b16c55",
   "metadata": {},
   "outputs": [],
   "source": [
    "# Generate list the pv_forecast for customer with solar panels non installed by Zonneplan\n",
    "# By average the pv_forecast at a given time\n",
    "def generalize_pv_forecast(data):\n",
    "    # Average the pv_forecast at a given time\n",
    "    pv_avg = data[(data['not_ZP_pv'] == 0) & (data['has_pv'] == 1)].groupby('timestamp')['pv_forecast_kwh'].mean()\n",
    "    \n",
    "    # Add the pv_avg to where not_zp_pv = 1\n",
    "    data['pv_forecast_kwh'] = data.apply(lambda row: pv_avg[row['timestamp']] if row['not_ZP_pv'] == 1 \\\n",
    "                                         else row['pv_forecast_kwh'], axis=1)"
   ]
  },
  {
   "cell_type": "code",
   "execution_count": 17,
   "id": "55eb4775",
   "metadata": {},
   "outputs": [],
   "source": [
    "generalize_pv_forecast(test_data)"
   ]
  },
  {
   "cell_type": "code",
   "execution_count": 18,
   "id": "a9a7972b",
   "metadata": {},
   "outputs": [],
   "source": [
    "# Forecast consumption using basic approach: the consumption is inferred by averaging the hourly the consumption of \n",
    "# all household\n",
    "def forecast_cons_avg_all(data):\n",
    "    cons_avg_all = consumption_avg_all(train_data)\n",
    "    data['cons_forecast_avg_all'] = data.apply(lambda row: cons_avg_all[row.timestamp.hour], axis = 1)"
   ]
  },
  {
   "cell_type": "code",
   "execution_count": 19,
   "id": "8c9c63b8",
   "metadata": {},
   "outputs": [],
   "source": [
    "forecast_cons_avg_all(test_data)"
   ]
  },
  {
   "cell_type": "code",
   "execution_count": 20,
   "id": "837c7a10",
   "metadata": {},
   "outputs": [],
   "source": [
    "# Forecast consumption using approach: the consumption is inferred by averaging the hourly the consumption of \n",
    "# of a given household. In the household is new (new contract in test data), the consumption is inferred by\n",
    "# using the averaged of all households\n",
    "def forecast_cons_avg_individual(data):\n",
    "    cons_avg_all = consumption_avg_all(train_data)\n",
    "    cons_avg_ind = consumption_avg_per_contract(train_data)\n",
    "    \n",
    "    # contract_id in the train data\n",
    "    train_contract_id = cons_avg_ind.index.get_level_values('contract_id').unique()\n",
    "    data['cons_forecast_avg_ind'] = data.apply(lambda row: cons_avg_ind[row['contract_id']][row.timestamp.hour]  \\\n",
    "                                               if row['contract_id'] in train_contract_id \\\n",
    "                                               else cons_avg_all[row.timestamp.hour], axis = 1)"
   ]
  },
  {
   "cell_type": "code",
   "execution_count": 21,
   "id": "1f967c4d",
   "metadata": {},
   "outputs": [],
   "source": [
    "forecast_cons_avg_individual(test_data)"
   ]
  },
  {
   "cell_type": "code",
   "execution_count": 22,
   "id": "14a07ca2",
   "metadata": {},
   "outputs": [],
   "source": [
    "# Deduce the forecast of p1 using the different approaches\n",
    "test_data['p1_forecast_avg_all'] = test_data['cons_forecast_avg_all'] - test_data['pv_forecast_kwh']\n",
    "test_data['p1_forecast_avg_ind'] = test_data['cons_forecast_avg_ind'] - test_data['pv_forecast_kwh']"
   ]
  },
  {
   "cell_type": "code",
   "execution_count": 23,
   "id": "3b123ffe",
   "metadata": {},
   "outputs": [
    {
     "data": {
      "text/plain": [
       "<matplotlib.legend.Legend at 0x7fe91210bc40>"
      ]
     },
     "execution_count": 23,
     "metadata": {},
     "output_type": "execute_result"
    },
    {
     "data": {
      "image/png": "[encoded data removed]",
      "text/plain": [
       "<Figure size 1296x360 with 1 Axes>"
      ]
     },
     "metadata": {
      "needs_background": "light"
     },
     "output_type": "display_data"
    }
   ],
   "source": [
    "fig, ax = plt.subplots(figsize=(18,5))\n",
    "test_data.groupby(test_data.timestamp)['p1_actual_kwh'].sum().plot(label = 'sum of p1_actual_kwh')\n",
    "test_data.groupby(test_data.timestamp)['cons_forecast_avg_all'].sum().plot(label='sum of p1_forecast_kwh_avg_all', \\\n",
    "                                                                           ax=ax)\n",
    "test_data.groupby(test_data.timestamp)['cons_forecast_avg_ind'].sum().plot(label='sum of p1_ind_kwh_avg_all', \\\n",
    "                                                                           ax=ax)\n",
    "plt.legend()"
   ]
  },
  {
   "cell_type": "code",
   "execution_count": 24,
   "id": "faf355fd",
   "metadata": {},
   "outputs": [
    {
     "data": {
      "text/html": [
       "<div>\n",
       "<style scoped>\n",
       "    .dataframe tbody tr th:only-of-type {\n",
       "        vertical-align: middle;\n",
       "    }\n",
       "\n",
       "    .dataframe tbody tr th {\n",
       "        vertical-align: top;\n",
       "    }\n",
       "\n",
       "    .dataframe thead th {\n",
       "        text-align: right;\n",
       "    }\n",
       "</style>\n",
       "<table border=\"1\" class=\"dataframe\">\n",
       "  <thead>\n",
       "    <tr style=\"text-align: right;\">\n",
       "      <th></th>\n",
       "      <th>contract_id</th>\n",
       "      <th>timestamp</th>\n",
       "      <th>pv_actual_kwh</th>\n",
       "      <th>p1_actual_kwh</th>\n",
       "      <th>pv_forecast_kwh</th>\n",
       "      <th>not_ZP_pv</th>\n",
       "      <th>has_pv</th>\n",
       "      <th>cons_forecast_avg_all</th>\n",
       "      <th>cons_forecast_avg_ind</th>\n",
       "      <th>p1_forecast_avg_all</th>\n",
       "      <th>p1_forecast_avg_ind</th>\n",
       "    </tr>\n",
       "  </thead>\n",
       "  <tbody>\n",
       "    <tr>\n",
       "      <th>142076</th>\n",
       "      <td>99503</td>\n",
       "      <td>2022-12-29 12:00:00</td>\n",
       "      <td>0.0</td>\n",
       "      <td>326.0</td>\n",
       "      <td>122.228814</td>\n",
       "      <td>1</td>\n",
       "      <td>1</td>\n",
       "      <td>210.065081</td>\n",
       "      <td>583.319105</td>\n",
       "      <td>87.836267</td>\n",
       "      <td>461.090291</td>\n",
       "    </tr>\n",
       "    <tr>\n",
       "      <th>142077</th>\n",
       "      <td>99503</td>\n",
       "      <td>2022-12-29 12:15:00</td>\n",
       "      <td>0.0</td>\n",
       "      <td>474.0</td>\n",
       "      <td>119.949153</td>\n",
       "      <td>1</td>\n",
       "      <td>1</td>\n",
       "      <td>210.065081</td>\n",
       "      <td>583.319105</td>\n",
       "      <td>90.115928</td>\n",
       "      <td>463.369952</td>\n",
       "    </tr>\n",
       "    <tr>\n",
       "      <th>142078</th>\n",
       "      <td>99503</td>\n",
       "      <td>2022-12-29 12:30:00</td>\n",
       "      <td>0.0</td>\n",
       "      <td>768.0</td>\n",
       "      <td>112.576271</td>\n",
       "      <td>1</td>\n",
       "      <td>1</td>\n",
       "      <td>210.065081</td>\n",
       "      <td>583.319105</td>\n",
       "      <td>97.488809</td>\n",
       "      <td>470.742834</td>\n",
       "    </tr>\n",
       "    <tr>\n",
       "      <th>142079</th>\n",
       "      <td>99503</td>\n",
       "      <td>2022-12-29 12:45:00</td>\n",
       "      <td>0.0</td>\n",
       "      <td>1200.0</td>\n",
       "      <td>110.516949</td>\n",
       "      <td>1</td>\n",
       "      <td>1</td>\n",
       "      <td>210.065081</td>\n",
       "      <td>583.319105</td>\n",
       "      <td>99.548131</td>\n",
       "      <td>472.802156</td>\n",
       "    </tr>\n",
       "    <tr>\n",
       "      <th>142242</th>\n",
       "      <td>100788</td>\n",
       "      <td>2022-12-29 12:00:00</td>\n",
       "      <td>0.0</td>\n",
       "      <td>-129.0</td>\n",
       "      <td>122.228814</td>\n",
       "      <td>1</td>\n",
       "      <td>1</td>\n",
       "      <td>210.065081</td>\n",
       "      <td>27.056605</td>\n",
       "      <td>87.836267</td>\n",
       "      <td>-95.172209</td>\n",
       "    </tr>\n",
       "    <tr>\n",
       "      <th>...</th>\n",
       "      <td>...</td>\n",
       "      <td>...</td>\n",
       "      <td>...</td>\n",
       "      <td>...</td>\n",
       "      <td>...</td>\n",
       "      <td>...</td>\n",
       "      <td>...</td>\n",
       "      <td>...</td>\n",
       "      <td>...</td>\n",
       "      <td>...</td>\n",
       "      <td>...</td>\n",
       "    </tr>\n",
       "    <tr>\n",
       "      <th>282323</th>\n",
       "      <td>139863</td>\n",
       "      <td>2022-12-30 12:45:00</td>\n",
       "      <td>0.0</td>\n",
       "      <td>76.0</td>\n",
       "      <td>82.262712</td>\n",
       "      <td>1</td>\n",
       "      <td>1</td>\n",
       "      <td>210.065081</td>\n",
       "      <td>305.259569</td>\n",
       "      <td>127.802369</td>\n",
       "      <td>222.996857</td>\n",
       "    </tr>\n",
       "    <tr>\n",
       "      <th>282422</th>\n",
       "      <td>139863</td>\n",
       "      <td>2022-12-31 12:00:00</td>\n",
       "      <td>0.0</td>\n",
       "      <td>746.0</td>\n",
       "      <td>69.161017</td>\n",
       "      <td>1</td>\n",
       "      <td>1</td>\n",
       "      <td>210.065081</td>\n",
       "      <td>305.259569</td>\n",
       "      <td>140.904064</td>\n",
       "      <td>236.098552</td>\n",
       "    </tr>\n",
       "    <tr>\n",
       "      <th>282423</th>\n",
       "      <td>139863</td>\n",
       "      <td>2022-12-31 12:15:00</td>\n",
       "      <td>0.0</td>\n",
       "      <td>520.0</td>\n",
       "      <td>69.161017</td>\n",
       "      <td>1</td>\n",
       "      <td>1</td>\n",
       "      <td>210.065081</td>\n",
       "      <td>305.259569</td>\n",
       "      <td>140.904064</td>\n",
       "      <td>236.098552</td>\n",
       "    </tr>\n",
       "    <tr>\n",
       "      <th>282424</th>\n",
       "      <td>139863</td>\n",
       "      <td>2022-12-31 12:30:00</td>\n",
       "      <td>0.0</td>\n",
       "      <td>342.0</td>\n",
       "      <td>63.974576</td>\n",
       "      <td>1</td>\n",
       "      <td>1</td>\n",
       "      <td>210.065081</td>\n",
       "      <td>305.259569</td>\n",
       "      <td>146.090504</td>\n",
       "      <td>241.284992</td>\n",
       "    </tr>\n",
       "    <tr>\n",
       "      <th>282425</th>\n",
       "      <td>139863</td>\n",
       "      <td>2022-12-31 12:45:00</td>\n",
       "      <td>0.0</td>\n",
       "      <td>348.0</td>\n",
       "      <td>63.974576</td>\n",
       "      <td>1</td>\n",
       "      <td>1</td>\n",
       "      <td>210.065081</td>\n",
       "      <td>305.259569</td>\n",
       "      <td>146.090504</td>\n",
       "      <td>241.284992</td>\n",
       "    </tr>\n",
       "  </tbody>\n",
       "</table>\n",
       "<p>352 rows × 11 columns</p>\n",
       "</div>"
      ],
      "text/plain": [
       "        contract_id           timestamp  pv_actual_kwh  p1_actual_kwh  \\\n",
       "142076        99503 2022-12-29 12:00:00            0.0          326.0   \n",
       "142077        99503 2022-12-29 12:15:00            0.0          474.0   \n",
       "142078        99503 2022-12-29 12:30:00            0.0          768.0   \n",
       "142079        99503 2022-12-29 12:45:00            0.0         1200.0   \n",
       "142242       100788 2022-12-29 12:00:00            0.0         -129.0   \n",
       "...             ...                 ...            ...            ...   \n",
       "282323       139863 2022-12-30 12:45:00            0.0           76.0   \n",
       "282422       139863 2022-12-31 12:00:00            0.0          746.0   \n",
       "282423       139863 2022-12-31 12:15:00            0.0          520.0   \n",
       "282424       139863 2022-12-31 12:30:00            0.0          342.0   \n",
       "282425       139863 2022-12-31 12:45:00            0.0          348.0   \n",
       "\n",
       "        pv_forecast_kwh  not_ZP_pv  has_pv  cons_forecast_avg_all  \\\n",
       "142076       122.228814          1       1             210.065081   \n",
       "142077       119.949153          1       1             210.065081   \n",
       "142078       112.576271          1       1             210.065081   \n",
       "142079       110.516949          1       1             210.065081   \n",
       "142242       122.228814          1       1             210.065081   \n",
       "...                 ...        ...     ...                    ...   \n",
       "282323        82.262712          1       1             210.065081   \n",
       "282422        69.161017          1       1             210.065081   \n",
       "282423        69.161017          1       1             210.065081   \n",
       "282424        63.974576          1       1             210.065081   \n",
       "282425        63.974576          1       1             210.065081   \n",
       "\n",
       "        cons_forecast_avg_ind  p1_forecast_avg_all  p1_forecast_avg_ind  \n",
       "142076             583.319105            87.836267           461.090291  \n",
       "142077             583.319105            90.115928           463.369952  \n",
       "142078             583.319105            97.488809           470.742834  \n",
       "142079             583.319105            99.548131           472.802156  \n",
       "142242              27.056605            87.836267           -95.172209  \n",
       "...                       ...                  ...                  ...  \n",
       "282323             305.259569           127.802369           222.996857  \n",
       "282422             305.259569           140.904064           236.098552  \n",
       "282423             305.259569           140.904064           236.098552  \n",
       "282424             305.259569           146.090504           241.284992  \n",
       "282425             305.259569           146.090504           241.284992  \n",
       "\n",
       "[352 rows x 11 columns]"
      ]
     },
     "execution_count": 24,
     "metadata": {},
     "output_type": "execute_result"
    }
   ],
   "source": [
    "test_data[(test_data['not_ZP_pv'] == 1) & (test_data.timestamp.dt.hour == 12)]"
   ]
  },
  {
   "cell_type": "markdown",
   "id": "c5de4a48",
   "metadata": {},
   "source": [
    "# Forecast period January 1 to 7"
   ]
  },
  {
   "cell_type": "code",
   "execution_count": 26,
   "id": "5f5e34cb",
   "metadata": {},
   "outputs": [],
   "source": [
    "# Add column to indicate if the household has solar panels NOT installed by Zonneplan (1 if True, 0 otherwise)\n",
    "forecast_values['not_ZP_pv'] = forecast_values.apply(lambda row : 1 \\\n",
    "                                                     if row.contract_id in pv_wo_zp_contract else 0, axis = 1)\n",
    "\n",
    "# Add column to indicate if the customer has solar panels\n",
    "forecast_values['has_pv'] = forecast_values.apply(lambda row : 1 if row.contract_id in customer_w_pv else 0, axis = 1)"
   ]
  },
  {
   "cell_type": "code",
   "execution_count": 27,
   "id": "7e857cb5",
   "metadata": {},
   "outputs": [],
   "source": [
    "generalize_pv_forecast(forecast_values)"
   ]
  },
  {
   "cell_type": "code",
   "execution_count": 28,
   "id": "3bf940ba",
   "metadata": {},
   "outputs": [],
   "source": [
    "forecast_cons_avg_all(forecast_values)"
   ]
  },
  {
   "cell_type": "code",
   "execution_count": 29,
   "id": "6f44d2db",
   "metadata": {},
   "outputs": [],
   "source": [
    "forecast_cons_avg_individual(forecast_values)"
   ]
  },
  {
   "cell_type": "code",
   "execution_count": 30,
   "id": "d6f3cbdd",
   "metadata": {},
   "outputs": [
    {
     "data": {
      "text/html": [
       "<div>\n",
       "<style scoped>\n",
       "    .dataframe tbody tr th:only-of-type {\n",
       "        vertical-align: middle;\n",
       "    }\n",
       "\n",
       "    .dataframe tbody tr th {\n",
       "        vertical-align: top;\n",
       "    }\n",
       "\n",
       "    .dataframe thead th {\n",
       "        text-align: right;\n",
       "    }\n",
       "</style>\n",
       "<table border=\"1\" class=\"dataframe\">\n",
       "  <thead>\n",
       "    <tr style=\"text-align: right;\">\n",
       "      <th></th>\n",
       "      <th>contract_id</th>\n",
       "      <th>timestamp</th>\n",
       "      <th>pv_forecast_kwh</th>\n",
       "      <th>not_ZP_pv</th>\n",
       "      <th>has_pv</th>\n",
       "      <th>cons_forecast_avg_all</th>\n",
       "      <th>cons_forecast_avg_ind</th>\n",
       "    </tr>\n",
       "  </thead>\n",
       "  <tbody>\n",
       "    <tr>\n",
       "      <th>0</th>\n",
       "      <td>142828</td>\n",
       "      <td>2023-01-01 00:00:00</td>\n",
       "      <td>0.0</td>\n",
       "      <td>0</td>\n",
       "      <td>0</td>\n",
       "      <td>212.423135</td>\n",
       "      <td>55.166667</td>\n",
       "    </tr>\n",
       "    <tr>\n",
       "      <th>1</th>\n",
       "      <td>142828</td>\n",
       "      <td>2023-01-01 00:15:00</td>\n",
       "      <td>0.0</td>\n",
       "      <td>0</td>\n",
       "      <td>0</td>\n",
       "      <td>212.423135</td>\n",
       "      <td>55.166667</td>\n",
       "    </tr>\n",
       "    <tr>\n",
       "      <th>2</th>\n",
       "      <td>142828</td>\n",
       "      <td>2023-01-01 00:30:00</td>\n",
       "      <td>0.0</td>\n",
       "      <td>0</td>\n",
       "      <td>0</td>\n",
       "      <td>212.423135</td>\n",
       "      <td>55.166667</td>\n",
       "    </tr>\n",
       "    <tr>\n",
       "      <th>3</th>\n",
       "      <td>142828</td>\n",
       "      <td>2023-01-01 00:45:00</td>\n",
       "      <td>0.0</td>\n",
       "      <td>0</td>\n",
       "      <td>0</td>\n",
       "      <td>212.423135</td>\n",
       "      <td>55.166667</td>\n",
       "    </tr>\n",
       "    <tr>\n",
       "      <th>4</th>\n",
       "      <td>142828</td>\n",
       "      <td>2023-01-01 01:00:00</td>\n",
       "      <td>0.0</td>\n",
       "      <td>0</td>\n",
       "      <td>0</td>\n",
       "      <td>207.305734</td>\n",
       "      <td>45.791667</td>\n",
       "    </tr>\n",
       "    <tr>\n",
       "      <th>...</th>\n",
       "      <td>...</td>\n",
       "      <td>...</td>\n",
       "      <td>...</td>\n",
       "      <td>...</td>\n",
       "      <td>...</td>\n",
       "      <td>...</td>\n",
       "      <td>...</td>\n",
       "    </tr>\n",
       "    <tr>\n",
       "      <th>102555</th>\n",
       "      <td>143050</td>\n",
       "      <td>2023-01-07 22:45:00</td>\n",
       "      <td>0.0</td>\n",
       "      <td>0</td>\n",
       "      <td>0</td>\n",
       "      <td>203.928930</td>\n",
       "      <td>40.520000</td>\n",
       "    </tr>\n",
       "    <tr>\n",
       "      <th>102556</th>\n",
       "      <td>143050</td>\n",
       "      <td>2023-01-07 23:00:00</td>\n",
       "      <td>NaN</td>\n",
       "      <td>0</td>\n",
       "      <td>0</td>\n",
       "      <td>204.444924</td>\n",
       "      <td>15.642857</td>\n",
       "    </tr>\n",
       "    <tr>\n",
       "      <th>102557</th>\n",
       "      <td>143050</td>\n",
       "      <td>2023-01-07 23:15:00</td>\n",
       "      <td>NaN</td>\n",
       "      <td>0</td>\n",
       "      <td>0</td>\n",
       "      <td>204.444924</td>\n",
       "      <td>15.642857</td>\n",
       "    </tr>\n",
       "    <tr>\n",
       "      <th>102558</th>\n",
       "      <td>143050</td>\n",
       "      <td>2023-01-07 23:30:00</td>\n",
       "      <td>NaN</td>\n",
       "      <td>0</td>\n",
       "      <td>0</td>\n",
       "      <td>204.444924</td>\n",
       "      <td>15.642857</td>\n",
       "    </tr>\n",
       "    <tr>\n",
       "      <th>102559</th>\n",
       "      <td>143050</td>\n",
       "      <td>2023-01-07 23:45:00</td>\n",
       "      <td>NaN</td>\n",
       "      <td>0</td>\n",
       "      <td>0</td>\n",
       "      <td>204.444924</td>\n",
       "      <td>15.642857</td>\n",
       "    </tr>\n",
       "  </tbody>\n",
       "</table>\n",
       "<p>102560 rows × 7 columns</p>\n",
       "</div>"
      ],
      "text/plain": [
       "        contract_id           timestamp  pv_forecast_kwh  not_ZP_pv  has_pv  \\\n",
       "0            142828 2023-01-01 00:00:00              0.0          0       0   \n",
       "1            142828 2023-01-01 00:15:00              0.0          0       0   \n",
       "2            142828 2023-01-01 00:30:00              0.0          0       0   \n",
       "3            142828 2023-01-01 00:45:00              0.0          0       0   \n",
       "4            142828 2023-01-01 01:00:00              0.0          0       0   \n",
       "...             ...                 ...              ...        ...     ...   \n",
       "102555       143050 2023-01-07 22:45:00              0.0          0       0   \n",
       "102556       143050 2023-01-07 23:00:00              NaN          0       0   \n",
       "102557       143050 2023-01-07 23:15:00              NaN          0       0   \n",
       "102558       143050 2023-01-07 23:30:00              NaN          0       0   \n",
       "102559       143050 2023-01-07 23:45:00              NaN          0       0   \n",
       "\n",
       "        cons_forecast_avg_all  cons_forecast_avg_ind  \n",
       "0                  212.423135              55.166667  \n",
       "1                  212.423135              55.166667  \n",
       "2                  212.423135              55.166667  \n",
       "3                  212.423135              55.166667  \n",
       "4                  207.305734              45.791667  \n",
       "...                       ...                    ...  \n",
       "102555             203.928930              40.520000  \n",
       "102556             204.444924              15.642857  \n",
       "102557             204.444924              15.642857  \n",
       "102558             204.444924              15.642857  \n",
       "102559             204.444924              15.642857  \n",
       "\n",
       "[102560 rows x 7 columns]"
      ]
     },
     "execution_count": 30,
     "metadata": {},
     "output_type": "execute_result"
    }
   ],
   "source": [
    "forecast_values"
   ]
  },
  {
   "cell_type": "code",
   "execution_count": 31,
   "id": "7b5672ad",
   "metadata": {},
   "outputs": [
    {
     "data": {
      "text/plain": [
       "<matplotlib.legend.Legend at 0x7fe91df2afe0>"
      ]
     },
     "execution_count": 31,
     "metadata": {},
     "output_type": "execute_result"
    },
    {
     "data": {
      "image/png": "[encoded data removed]",
      "text/plain": [
       "<Figure size 1296x360 with 1 Axes>"
      ]
     },
     "metadata": {
      "needs_background": "light"
     },
     "output_type": "display_data"
    }
   ],
   "source": [
    "fig, ax = plt.subplots(figsize=(18,5))\n",
    "forecast_values.groupby(forecast_values.timestamp)['cons_forecast_avg_all'].sum().plot(label='sum of p1_forecast_kwh_avg_all', \\\n",
    "                                                                           ax=ax)\n",
    "forecast_values.groupby(forecast_values.timestamp)['cons_forecast_avg_ind'].sum().plot(label='sum of p1_ind_kwh_avg_all', \\\n",
    "                                                                           ax=ax)\n",
    "plt.legend()"
   ]
  },
  {
   "cell_type": "markdown",
   "id": "dee03814",
   "metadata": {},
   "source": [
    "# Challenges\n",
    "* Combination of households with solar panels installed by Zonneplan and not with Zonneplan: some household have energy sources we are not aware of. They can be identified by having negative values of consumption.\n",
    "* Limited available data: only 3 weeks of data available"
   ]
  },
  {
   "cell_type": "markdown",
   "id": "15e93e2e",
   "metadata": {},
   "source": [
    "To improve this prediction in the coming months, I would continue to **collect and analyze historical data and update our models** accordingly. \n",
    "\n",
    "I would also **explore other forecasting methods**, such as the Prophet model developed by Facebook, and machine learning techniques, such as Linear regression, Decision tree regression, Random forest regression, ARIMA...\n",
    "\n",
    "I would also classify the **households with/without solar panels** and try to get more data about the households with soalr panels which have not been installed by Zonneplan.\n",
    "\n",
    "Another area for improvement is the **incorporation of external factors that could impact consumption**, such as holidays, events, changes in government policies, locations (so we can better analys the relation with the weather). By including these factors in our forecasting models, we can create more accurate and robust predictions for our energy portfolio.\n",
    "\n",
    "One aspect that could have been better is the data cleaning and preprocessing. There were some missing values and inconsistencies in the data that needed to be addressed before we could create an accurate forecast. In the future, I would need to ensure that we have clean and consistent data before proceeding with the forecasting process.\n",
    "\n",
    "Finally, it may be worth to look at other datasets online such as Kaggle (for instance: [Energy consumption of the Netherlands](https://www.kaggle.com/datasets/lucabasa/dutch-energy))"
   ]
  }
 ],
 "metadata": {
  "kernelspec": {
   "display_name": "Python 3 (ipykernel)",
   "language": "python",
   "name": "python3"
  },
  "language_info": {
   "codemirror_mode": {
    "name": "ipython",
    "version": 3
   },
   "file_extension": ".py",
   "mimetype": "text/x-python",
   "name": "python",
   "nbconvert_exporter": "python",
   "pygments_lexer": "ipython3",
   "version": "3.10.6"
  }
 },
 "nbformat": 4,
 "nbformat_minor": 5
}
