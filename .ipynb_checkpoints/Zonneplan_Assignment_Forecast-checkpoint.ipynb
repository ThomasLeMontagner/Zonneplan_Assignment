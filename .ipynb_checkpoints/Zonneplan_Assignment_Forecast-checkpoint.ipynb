{
 "cells": [
  {
   "cell_type": "markdown",
   "id": "f19c7bda",
   "metadata": {},
   "source": [
    "# Libraries"
   ]
  },
  {
   "cell_type": "code",
   "execution_count": 1,
   "id": "6432898a",
   "metadata": {},
   "outputs": [],
   "source": [
    "import pandas as pd\n",
    "import numpy as np\n",
    "from datetime import datetime, timedelta\n",
    "from matplotlib import pyplot as plt"
   ]
  },
  {
   "cell_type": "markdown",
   "id": "1d953a34",
   "metadata": {},
   "source": [
    "# Load Data"
   ]
  },
  {
   "cell_type": "code",
   "execution_count": 2,
   "id": "7f101a13",
   "metadata": {},
   "outputs": [],
   "source": [
    "contracts = pd.read_csv('datafiles_assignment_data_scientist/contracten_database_table.csv', sep = ';')\n",
    "values_actual = pd.read_json('datafiles_assignment_data_scientist/actual_values.json')\n",
    "pv_forecast = pd.read_json('datafiles_assignment_data_scientist/forecast_values.json')\n",
    "weather_actual = pd.read_json('datafiles_assignment_data_scientist/weather_actual.json')\n",
    "weather_forecast = pd.read_json('datafiles_assignment_data_scientist/weather_forecast.json')\n",
    "prices = pd.read_json('datafiles_assignment_data_scientist/price_epex.json')"
   ]
  },
  {
   "cell_type": "code",
   "execution_count": 3,
   "id": "302448a9",
   "metadata": {},
   "outputs": [],
   "source": [
    "def remove_outliers_zscore(data, threshold=3):\n",
    "    \"\"\"\n",
    "    Removes outliers from a time series using the Z-score method.\n",
    "    \n",
    "    Parameters:\n",
    "    data (np.ndarray): The time series data.\n",
    "    threshold (float): The Z-score threshold for identifying outliers. Defaults to 3.\n",
    "    \n",
    "    Returns:\n",
    "    np.ndarray: The time series data with outliers removed.\n",
    "    \"\"\"\n",
    "    z_scores = np.abs((data - np.mean(data)) / np.std(data))\n",
    "    mask = z_scores < threshold\n",
    "    return data[mask]"
   ]
  },
  {
   "cell_type": "markdown",
   "id": "617cc3ea",
   "metadata": {},
   "source": [
    "# Forecast\n",
    "**Methods:**\n",
    "* Naive methods: Average previous consumption off all households together by considering feature like time\n",
    "* Conidering additional pv input: Predict the solar production for household with solar without Zonneplan\n",
    "* fine-tune per customer: create model per customer"
   ]
  },
  {
   "cell_type": "markdown",
   "id": "dee03814",
   "metadata": {},
   "source": [
    "# Challenges\n",
    "* Combination of households with solar panels installed by Zonneplan and not with Zonneplan: some household have energy sources we are not aware of. They can be identified by having negative values of consumption."
   ]
  },
  {
   "cell_type": "markdown",
   "id": "15e93e2e",
   "metadata": {},
   "source": [
    "# Possible next steps¶\n",
    "* Look at possible clusters: based on infrastructure (with or withut solar panels), consumption behavior pattern (households consuming more at certain time than other householads, and less at certain time), cluster of location\n",
    "* Consideration of additional solar power data: size and tild of the solar panels\n",
    "* Classification of customer with/without solar panels: using other data sources? Solar panels detection from satellites images?\n",
    "* Look at other data set like Kaggle\n",
    "\n",
    "To improve this prediction in the coming months, we will continue to collect and analyze historical data and update our models accordingly. We will also explore other forecasting methods, such as the Prophet model developed by Facebook, and machine learning techniques, such as random forests and neural networks.\n",
    "\n",
    "One aspect that could have been better is the data cleaning and preprocessing. There were some missing values and inconsistencies in the data that needed to be addressed before we could create an accurate forecast. In the future, we will need to ensure that we have clean and consistent data before proceeding with the forecasting process.\n",
    "\n",
    "Another area for improvement is the incorporation of external factors that could impact consumption, such as holidays, events, and changes in government policies. By including these factors in our forecasting models, we can create more accurate and robust predictions for our energy portfolio."
   ]
  }
 ],
 "metadata": {
  "kernelspec": {
   "display_name": "Python 3 (ipykernel)",
   "language": "python",
   "name": "python3"
  },
  "language_info": {
   "codemirror_mode": {
    "name": "ipython",
    "version": 3
   },
   "file_extension": ".py",
   "mimetype": "text/x-python",
   "name": "python",
   "nbconvert_exporter": "python",
   "pygments_lexer": "ipython3",
   "version": "3.10.6"
  }
 },
 "nbformat": 4,
 "nbformat_minor": 5
}
