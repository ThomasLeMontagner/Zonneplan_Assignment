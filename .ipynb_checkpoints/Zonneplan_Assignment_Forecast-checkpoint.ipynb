{
 "cells": [
  {
   "cell_type": "markdown",
   "id": "f19c7bda",
   "metadata": {},
   "source": [
    "# Libraries"
   ]
  },
  {
   "cell_type": "code",
   "execution_count": 1,
   "id": "6432898a",
   "metadata": {},
   "outputs": [],
   "source": [
    "import pandas as pd\n",
    "import numpy as np\n",
    "from datetime import datetime, timedelta\n",
    "from matplotlib import pyplot as plt"
   ]
  },
  {
   "cell_type": "markdown",
   "id": "1d953a34",
   "metadata": {},
   "source": [
    "# Load Data"
   ]
  },
  {
   "cell_type": "code",
   "execution_count": 2,
   "id": "7f101a13",
   "metadata": {},
   "outputs": [],
   "source": [
    "contracts = pd.read_csv('datafiles_assignment_data_scientist/contracten_database_table.csv', sep = ';')\n",
    "values_actual = pd.read_json('datafiles_assignment_data_scientist/actual_values.json')\n",
    "pv_forecast = pd.read_json('datafiles_assignment_data_scientist/forecast_values.json')\n",
    "weather_actual = pd.read_json('datafiles_assignment_data_scientist/weather_actual.json')\n",
    "weather_forecast = pd.read_json('datafiles_assignment_data_scientist/weather_forecast.json')\n",
    "prices = pd.read_json('datafiles_assignment_data_scientist/price_epex.json')"
   ]
  },
  {
   "cell_type": "markdown",
   "id": "1abbcfc5",
   "metadata": {},
   "source": [
    "# Data Preprocessing\n",
    "## Data cleaning\n",
    "Remove outliers using threshold defined in EDA."
   ]
  },
  {
   "cell_type": "code",
   "execution_count": 8,
   "id": "f3569d52",
   "metadata": {},
   "outputs": [],
   "source": [
    "# remove outlier\n",
    "threshold = 5*10e3\n",
    "consumption = values_actual[['contract_id', 'timestamp', 'p1_actual_kwh', 'pv_actual_kwh']].copy()\n",
    "consumption = consumption[(consumption.p1_actual_kwh > -threshold) & \\\n",
    "                          (consumption.p1_actual_kwh < threshold)].copy()"
   ]
  },
  {
   "cell_type": "code",
   "execution_count": 3,
   "id": "302448a9",
   "metadata": {},
   "outputs": [],
   "source": [
    "def remove_outliers_zscore(data, threshold=3):\n",
    "    \"\"\"\n",
    "    Removes outliers from a time series using the Z-score method.\n",
    "    \n",
    "    Parameters:\n",
    "    data (np.ndarray): The time series data.\n",
    "    threshold (float): The Z-score threshold for identifying outliers. Defaults to 3.\n",
    "    \n",
    "    Returns:\n",
    "    np.ndarray: The time series data with outliers removed.\n",
    "    \"\"\"\n",
    "    z_scores = np.abs((data - np.mean(data)) / np.std(data))\n",
    "    mask = z_scores < threshold\n",
    "    return data[mask]"
   ]
  },
  {
   "cell_type": "markdown",
   "id": "475e93b9",
   "metadata": {},
   "source": [
    "## Handling of missing values\n",
    "Set to 0 Nan of p1_actual_kwh"
   ]
  },
  {
   "cell_type": "code",
   "execution_count": 9,
   "id": "3f71203d",
   "metadata": {},
   "outputs": [],
   "source": [
    "consumption['pv_actual_kwh'] = consumption['pv_actual_kwh'].replace(np.nan, 0)"
   ]
  },
  {
   "cell_type": "markdown",
   "id": "5a0fa33c",
   "metadata": {},
   "source": [
    "## Data split\n",
    "### Split: with solar panels from/not from Zonneplan"
   ]
  },
  {
   "cell_type": "code",
   "execution_count": 11,
   "id": "68bd9822",
   "metadata": {},
   "outputs": [],
   "source": [
    "# Set of contract_id having solar panels with Zonneplan (based of pv_actual_kwh)\n",
    "pv_w_zp_contract = set(values_actual[~values_actual['pv_actual_kwh'].isnull()]['contract_id'])\n",
    "\n",
    "# (Inferred) Set of contract_id having solar panel not with Zonneplan\n",
    "# To do so, we assume that contract_id with p1_actual_kwh < 0 have solar panels\n",
    "customer_w_pv = set(values_actual[values_actual['p1_actual_kwh'] < 0]['contract_id'])\n",
    "pv_wo_zp_contract = customer_w_pv - pv_w_zp_contract"
   ]
  },
  {
   "cell_type": "code",
   "execution_count": 16,
   "id": "85fc8a25",
   "metadata": {},
   "outputs": [],
   "source": [
    "# Data for customers with solar panels not installed by Zonneplan \n",
    "consumption_wo_zp = consumption[consumption.contract_id.isin(pv_wo_zp_contract)]\n",
    "\n",
    "# Data for other customer without solar panels or with solar panels installed by Zonneplan\n",
    "consumption_w_zp = consumption[~consumption.contract_id.isin(pv_wo_zp_contract)]"
   ]
  },
  {
   "cell_type": "markdown",
   "id": "b2e54640",
   "metadata": {},
   "source": [
    "### Split: Training and Test"
   ]
  },
  {
   "cell_type": "markdown",
   "id": "4562c79c",
   "metadata": {},
   "source": [
    "## Feature selection\n",
    "Selected feature:\n",
    "* hour\n",
    "* temperature\n",
    "* price\n",
    "\n",
    "Consumption:\n",
    "* for customers with solar panels installed by Zonneplan: p1_actual_kwh + pv_actual_kwh (or pv_forecast_kwh for test data)\n",
    "* for customers with solar panels not installed by Zonneplan: get the averaged pv_actual_kwh/pv_forecast_kwh an add it to the p1_actual_pwh"
   ]
  },
  {
   "cell_type": "markdown",
   "id": "617cc3ea",
   "metadata": {},
   "source": [
    "# Training Forecast\n",
    "**Methods:**\n",
    "* Naive methods: Average previous consumption off all households together by considering feature like time\n",
    "* Conidering additional pv input: Predict the solar production for household with solar without Zonneplan\n",
    "* fine-tune per customer: create model per customer"
   ]
  },
  {
   "cell_type": "markdown",
   "id": "c79eebfe",
   "metadata": {},
   "source": [
    "# Test\n",
    "* Predict the average at a certain time and multiple by the number of household"
   ]
  },
  {
   "cell_type": "markdown",
   "id": "65249bd1",
   "metadata": {},
   "source": [
    "# Forecast"
   ]
  },
  {
   "cell_type": "markdown",
   "id": "dee03814",
   "metadata": {},
   "source": [
    "# Challenges\n",
    "* Combination of households with solar panels installed by Zonneplan and not with Zonneplan: some household have energy sources we are not aware of. They can be identified by having negative values of consumption."
   ]
  },
  {
   "cell_type": "markdown",
   "id": "15e93e2e",
   "metadata": {},
   "source": [
    "# Possible next steps¶\n",
    "* Look at possible clusters: based on infrastructure (with or withut solar panels), consumption behavior pattern (households consuming more at certain time than other householads, and less at certain time), cluster of location\n",
    "* Consideration of additional solar power data: size and tild of the solar panels\n",
    "* Classification of customer with/without solar panels: using other data sources? Solar panels detection from satellites images?\n",
    "* Look at other data set like Kaggle\n",
    "\n",
    "To improve this prediction in the coming months, we will continue to collect and analyze historical data and update our models accordingly. We will also explore other forecasting methods, such as the Prophet model developed by Facebook, and machine learning techniques, such as random forests and neural networks.\n",
    "\n",
    "One aspect that could have been better is the data cleaning and preprocessing. There were some missing values and inconsistencies in the data that needed to be addressed before we could create an accurate forecast. In the future, we will need to ensure that we have clean and consistent data before proceeding with the forecasting process.\n",
    "\n",
    "Another area for improvement is the incorporation of external factors that could impact consumption, such as holidays, events, and changes in government policies. By including these factors in our forecasting models, we can create more accurate and robust predictions for our energy portfolio."
   ]
  }
 ],
 "metadata": {
  "kernelspec": {
   "display_name": "Python 3 (ipykernel)",
   "language": "python",
   "name": "python3"
  },
  "language_info": {
   "codemirror_mode": {
    "name": "ipython",
    "version": 3
   },
   "file_extension": ".py",
   "mimetype": "text/x-python",
   "name": "python",
   "nbconvert_exporter": "python",
   "pygments_lexer": "ipython3",
   "version": "3.10.6"
  }
 },
 "nbformat": 4,
 "nbformat_minor": 5
}
