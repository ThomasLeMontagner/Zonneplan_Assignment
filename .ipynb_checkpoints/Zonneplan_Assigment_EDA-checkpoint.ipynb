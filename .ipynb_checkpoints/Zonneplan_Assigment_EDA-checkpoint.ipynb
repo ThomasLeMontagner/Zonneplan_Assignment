{
 "cells": [
  {
   "cell_type": "markdown",
   "id": "5b81c288",
   "metadata": {},
   "source": [
    "# Background information\n",
    "Solar Plan Energy's ambition is to grow to 30,000 to 75,000 energy customers over the next year. We offer customers an energy contract with hourly prices. This means that the price for electricity changes every hour. Every day at 1 p.m., customers see the prices in the Zonneplan App for the next 35 hours. They can adjust their consumption according to the prices. As an energy supplier, you are obliged to forecast and then purchase electricity for your customers as best you can.\n",
    "\n",
    "For each quarter hour, the offtake (or feed-in) from the electricity grid must be purchased. This must be done before 10:00 D-1 for delivery day D. When the realized consumption differs from our predicted consumption we have ''imbalance''. With imbalance, we (sell) the difference between the predicted and realized volumes at the price in effect at that time (the imbalance market). The price on the imbalance market depends on the imbalance on the entire power grid and can be either positive or negative. However, on average it is unfavorable to have imbalance. This makes it important to forecast the position of your energy portfolio as well as possible.\n",
    "\n",
    "Consumption forecasting is currently done using historical and forecast data. This is historical consumption data from the smart meter, historical and predicted solar generation data from the inverter, historical prices and historical and predicted weather data.\n",
    "\n",
    "# Assignment\n",
    "Create a consumption forecast using the dataset provided. The assignment is to forecast the expected consumption (or feed-in) in kWh per quarter hour for the period January 1 to January 7 for the sum of all active contracts in the energy portfolio.\n",
    "\n",
    "The forecast volume per quarter hour always has only 1 position. (Offtake minus feed-in)\n",
    "\n",
    "Return of electricity are negative values, offtake is positive.\n",
    "\n",
    "Only consumption taken off or fed into the grid is relevant. **There can be consumption within a household that is not registered on the smart meter.** This happens when there is solar generation which is consumed directly in the house.\n",
    "\n",
    "Not all customers have solar panels, and not everyone with solar panels purchased them from Solar Plan.\n",
    "\n",
    "All relevant information about the data is in the ZIP file.\n",
    "\n",
    "# What do we expect from you?\n",
    "* Solution: A forecast for the period January 1 to 7 with a reading per quarter of an hour.\n",
    "* Approach: Clear explanation of how you arrived at this prediction.\n",
    "* Follow-up steps: How will you make this prediction even better as you work on it in the coming months?\n",
    "* Reflection: What did you encounter? What went well? What could have been better?\n",
    "\n",
    "\n",
    "\n",
    "# (English) Data explanations\n",
    "**actual_values.json:**\n",
    "\n",
    "* Contract_id: personal identification number of household\n",
    "* Timestamp: quarter times in local timezone\n",
    "* Pv_actual_kwh: realized generated with solar panels in kWh\n",
    "* P1_actual_kwh: realized kWh on smart meter\n",
    "* Pv_forecast_kwh: forecast generated with solar panels in kWh\n",
    "\n",
    "**forecast_values.json:**\n",
    "\n",
    "* Contract_id: personal identification number of household\n",
    "* Timestamp: quarter times in local timezone\n",
    "* Pv_forecast_kwh: advance expected generation with solar panels in kWh\n",
    "\n",
    "**contracts_database_table.csv:**\n",
    "\n",
    "* Contract_id: personal identification number of household\n",
    "* Start_date: first day of customer's contract\n",
    "* End_date: last day of customer's contract\n",
    "\n",
    "**weahter_actual.json and weather_forecast.json:**\n",
    "\n",
    "* Location_id: location of weather station\n",
    "* Ghi: Global Horizontal Irradiation\n",
    "* Dni: Direct Normal Irradiation\n",
    "* Dhi: Diffuse Horizontal Irradiation\n",
    "* Ebh: Direct (Beam) Horizontal Irradiance\n",
    "* Zenith: The angle between a line perpendicular to the earth's surface and the sun (90 deg = sunrise and sunset; 0 * deg = sun directly overhead)\n",
    "* Azimuth: The angle between a line pointing due north to the sun's current position in the sky. Negative to the East. Positive to the West. 0 at due North\n",
    "* Cloud_opacity: The measurement of how opaque the clouds are to solar radiation in the given location.\n",
    "* Air_temp: temperature in degrees celsius\n",
    "Timestamp: quarter times in local timezone\n",
    "\n",
    "**price_epex.json:**\n",
    "\n",
    "* Price_epex: market price at which we buy and sell\n",
    "* Timestamp: quarter times in local timezone"
   ]
  },
  {
   "cell_type": "markdown",
   "id": "7ee36162",
   "metadata": {},
   "source": [
    "# Approach\n",
    "1. Exploratory Data Analysis: \n",
    "     1. Get to know the data\n",
    "     2. Are they missing values? Outliers?\n",
    "     3. Can we visualize any correlations between data?\n",
    "     2. Are there high level patterns which can be useful to forecast the consumption / solar power generation?\n",
    "2. Solar power generation forecast\n",
    "3. Power consumption forecast\n",
    "4. Integration"
   ]
  },
  {
   "cell_type": "markdown",
   "id": "b26be906",
   "metadata": {},
   "source": [
    "# Libraries"
   ]
  },
  {
   "cell_type": "code",
   "execution_count": 1,
   "id": "a0368bfd",
   "metadata": {},
   "outputs": [],
   "source": [
    "import pandas as pd\n",
    "import numpy as np\n",
    "from datetime import datetime, timedelta\n",
    "from matplotlib import pyplot as plt"
   ]
  },
  {
   "cell_type": "markdown",
   "id": "027bf759",
   "metadata": {},
   "source": [
    "# Load Data"
   ]
  },
  {
   "cell_type": "code",
   "execution_count": 2,
   "id": "1c7452db",
   "metadata": {},
   "outputs": [],
   "source": [
    "contracts = pd.read_csv('datafiles_assignment_data_scientist/contracten_database_table.csv', sep = ';')\n",
    "values_actual = pd.read_json('datafiles_assignment_data_scientist/actual_values.json')\n",
    "pv_forecast = pd.read_json('datafiles_assignment_data_scientist/forecast_values.json')\n",
    "weather_actual = pd.read_json('datafiles_assignment_data_scientist/weather_actual.json')\n",
    "weather_forecast = pd.read_json('datafiles_assignment_data_scientist/weather_forecast.json')\n",
    "prices = pd.read_json('datafiles_assignment_data_scientist/price_epex.json')"
   ]
  },
  {
   "cell_type": "markdown",
   "id": "5148fab5",
   "metadata": {},
   "source": [
    "# Exploratory Data Analysis"
   ]
  },
  {
   "cell_type": "markdown",
   "id": "bfaf7ce2",
   "metadata": {},
   "source": [
    "**Assumptions**:\n",
    "* The pv_power is function of the weather and panel structure (unavailable in the data)\n",
    "* The consumption is function of price, weather (e.g. the colder it is the more ones consumes energy to warm up the house), the day of the week (people tends to me more at home during week-ends than work day), hour of the day"
   ]
  },
  {
   "cell_type": "markdown",
   "id": "baa4b82a",
   "metadata": {},
   "source": [
    "## Contracts\n",
    "**Observations:**\n",
    "* The number of contracts has double in the month of December 2022"
   ]
  },
  {
   "cell_type": "code",
   "execution_count": 3,
   "id": "1719f35c",
   "metadata": {},
   "outputs": [],
   "source": [
    "contracts['start_date'] = pd.to_datetime(contracts['start_date'], format = '%d-%m-%Y')\n",
    "contracts['end_date'] = pd.to_datetime(contracts['end_date'], format = '%d-%m-%Y')"
   ]
  },
  {
   "cell_type": "code",
   "execution_count": 4,
   "id": "090f4520",
   "metadata": {},
   "outputs": [
    {
     "data": {
      "text/html": [
       "<div>\n",
       "<style scoped>\n",
       "    .dataframe tbody tr th:only-of-type {\n",
       "        vertical-align: middle;\n",
       "    }\n",
       "\n",
       "    .dataframe tbody tr th {\n",
       "        vertical-align: top;\n",
       "    }\n",
       "\n",
       "    .dataframe thead th {\n",
       "        text-align: right;\n",
       "    }\n",
       "</style>\n",
       "<table border=\"1\" class=\"dataframe\">\n",
       "  <thead>\n",
       "    <tr style=\"text-align: right;\">\n",
       "      <th></th>\n",
       "      <th>contract_id</th>\n",
       "      <th>start_date</th>\n",
       "      <th>end_date</th>\n",
       "    </tr>\n",
       "  </thead>\n",
       "  <tbody>\n",
       "    <tr>\n",
       "      <th>0</th>\n",
       "      <td>39752</td>\n",
       "      <td>2021-06-07</td>\n",
       "      <td>NaT</td>\n",
       "    </tr>\n",
       "    <tr>\n",
       "      <th>1</th>\n",
       "      <td>46224</td>\n",
       "      <td>2021-06-07</td>\n",
       "      <td>NaT</td>\n",
       "    </tr>\n",
       "    <tr>\n",
       "      <th>2</th>\n",
       "      <td>50494</td>\n",
       "      <td>2021-06-14</td>\n",
       "      <td>NaT</td>\n",
       "    </tr>\n",
       "    <tr>\n",
       "      <th>3</th>\n",
       "      <td>50507</td>\n",
       "      <td>2021-06-14</td>\n",
       "      <td>NaT</td>\n",
       "    </tr>\n",
       "    <tr>\n",
       "      <th>4</th>\n",
       "      <td>46463</td>\n",
       "      <td>2021-06-18</td>\n",
       "      <td>NaT</td>\n",
       "    </tr>\n",
       "  </tbody>\n",
       "</table>\n",
       "</div>"
      ],
      "text/plain": [
       "   contract_id start_date end_date\n",
       "0        39752 2021-06-07      NaT\n",
       "1        46224 2021-06-07      NaT\n",
       "2        50494 2021-06-14      NaT\n",
       "3        50507 2021-06-14      NaT\n",
       "4        46463 2021-06-18      NaT"
      ]
     },
     "execution_count": 4,
     "metadata": {},
     "output_type": "execute_result"
    }
   ],
   "source": [
    "contracts.head()"
   ]
  },
  {
   "cell_type": "code",
   "execution_count": 5,
   "id": "6aa6493e",
   "metadata": {},
   "outputs": [
    {
     "data": {
      "text/plain": [
       "contract_id    0.000000\n",
       "start_date     0.000000\n",
       "end_date       0.973262\n",
       "dtype: float64"
      ]
     },
     "execution_count": 5,
     "metadata": {},
     "output_type": "execute_result"
    }
   ],
   "source": [
    "contracts.isnull().mean()"
   ]
  },
  {
   "cell_type": "code",
   "execution_count": 6,
   "id": "871a0e97",
   "metadata": {},
   "outputs": [],
   "source": [
    "min_date = contracts.start_date.min()\n",
    "max_date = '2023-01-07'\n",
    "date_range = pd.date_range(start = min_date, end = max_date)"
   ]
  },
  {
   "cell_type": "markdown",
   "id": "a142d4dd",
   "metadata": {},
   "source": [
    "### What is the evolution of the number of contracts?"
   ]
  },
  {
   "cell_type": "code",
   "execution_count": 7,
   "id": "e25ab457",
   "metadata": {},
   "outputs": [],
   "source": [
    "# Total number of contracts opened at a given date\n",
    "num_contract_total = 0\n",
    "num_contracts = dict()\n",
    "\n",
    "for date in date_range:\n",
    "    if date in contracts.start_date.tolist():\n",
    "        num_contract_total += contracts.start_date.value_counts()[date]\n",
    "    if date in contracts.end_date.tolist():\n",
    "        num_contract_total -= contracts.end_date.value_counts()[date]\n",
    "    num_contracts[date] = num_contract_total\n",
    "num_contracts = pd.DataFrame(index = num_contracts.keys(), data = num_contracts.values())"
   ]
  },
  {
   "cell_type": "code",
   "execution_count": 8,
   "id": "993500c3",
   "metadata": {},
   "outputs": [
    {
     "data": {
      "text/plain": [
       "<AxesSubplot:title={'center':'Evolution of the number of opened contracts'}>"
      ]
     },
     "execution_count": 8,
     "metadata": {},
     "output_type": "execute_result"
    },
    {
     "data": {
      "image/png": "[encoded data removed]",
      "text/plain": [
       "<Figure size 720x360 with 1 Axes>"
      ]
     },
     "metadata": {
      "needs_background": "light"
     },
     "output_type": "display_data"
    }
   ],
   "source": [
    "num_contracts.plot(figsize=(10, 5), legend = False, title = 'Evolution of the number of opened contracts')"
   ]
  },
  {
   "cell_type": "markdown",
   "id": "1ff89657",
   "metadata": {},
   "source": [
    "### Relation between Smart Meter contracts and solar panels contracts\n",
    "\n",
    "**Assumption:**:\n",
    "* If p1_actual_kwh is negative, the customer has a solar panel installed. The solar panels may have be installed with Zonneplan or not. When installed with Zonneplan, a pv_actual_kwh measure is available.\n",
    "\n",
    "**Observations:**\n",
    "* **40%** of smart meter contracts have solar panels **installed with Zonneplan**\n",
    "* about **20%** of smart meter cotnracts have solar panel **not installed with Zonneplan**"
   ]
  },
  {
   "cell_type": "code",
   "execution_count": 9,
   "id": "c71418aa",
   "metadata": {},
   "outputs": [],
   "source": [
    "# Set of contract_id having a smart meters\n",
    "smart_meter_contract = set(values_actual[~values_actual['p1_actual_kwh'].isnull()]['contract_id'])\n",
    "\n",
    "# Set of contract_id having solar panels with Zonneplan (based of pv_actual_kwh)\n",
    "pv_w_zp_contract = set(values_actual[~values_actual['pv_actual_kwh'].isnull()]['contract_id'])\n",
    "\n",
    "# (Inferred) Set of contract_id having solar panel not with Zonneplan\n",
    "# To do so, we assume that contract_id with p1_actual_kwh < 0 have solar panels\n",
    "customer_w_pv = set(values_actual[values_actual['p1_actual_kwh'] < 0]['contract_id'])\n",
    "pv_wo_zp_contract = customer_w_pv - pv_w_zp_contract"
   ]
  },
  {
   "cell_type": "code",
   "execution_count": 10,
   "id": "21973126",
   "metadata": {},
   "outputs": [
    {
     "name": "stdout",
     "output_type": "stream",
     "text": [
      "Proportion of pv contracts with Zonneplan: 0.40\n",
      "(Inferred) proportion of pv contracts without Zonneplan: 0.20\n"
     ]
    }
   ],
   "source": [
    "# proportion of pv_contracts in the smart_meter_contracts\n",
    "#print(\"proportion of pv_contracts: {:.2f}\".format(len(pv_contract) / len(smart_meter_contract)))\n",
    "print(\"Proportion of pv contracts with Zonneplan: {:.2f}\".format(len(pv_w_zp_contract) / len(smart_meter_contract)))\n",
    "print(\"(Inferred) proportion of pv contracts without Zonneplan: {:.2f}\".format(len(pv_wo_zp_contract) / len(smart_meter_contract)))"
   ]
  },
  {
   "cell_type": "markdown",
   "id": "8990a654",
   "metadata": {},
   "source": [
    "## Smart meter consumption\n",
    "\n",
    "The pv_actual_kwh is measured at the inverter of the solar panels for customers that have both solar panels that we installed and have an energy contract with us. It’s separate from the smart meter measurement. In the p1_actual_kwh (from the smarter meter) the consumption from the household minus the pv_actual_kwh is measured. So **consumption of household = pv_actual + p1_actual_kwh** <br>\n",
    "\n",
    "**Obervations:**\n",
    "1. About 1.6% values from the smart meters are missing. Based on the limited number of data, it is preferable to remove them\n",
    "2. There are 3 outliers with a |p1_actual_kwh| > 5*10e3. They seem to really be anomalies and should be removed for forecasting\n",
    "3. Like we have seen previously there are many new contracts during the month of December. Thus each house are not equally represented in the data. Consequently, rather than looking at the average (for instance) consumption at a given time, we should average the consumption of all households (contracts).\n",
    "4. There are households with solar panels installed by Zonneplan and with additional source of power. Indeed, they have **negative values of p1_actual_kwh + pv_actual_kwh**"
   ]
  },
  {
   "cell_type": "code",
   "execution_count": 11,
   "id": "ecbe4844",
   "metadata": {},
   "outputs": [],
   "source": [
    "# Create a DataFrame Consumption with acutal data\n",
    "consumption = values_actual[['contract_id', 'timestamp', 'p1_actual_kwh', 'pv_actual_kwh']].copy()"
   ]
  },
  {
   "cell_type": "code",
   "execution_count": 12,
   "id": "3a9acad8",
   "metadata": {},
   "outputs": [
    {
     "data": {
      "text/plain": [
       "contract_id      0.000000\n",
       "timestamp        0.000000\n",
       "p1_actual_kwh    0.016734\n",
       "pv_actual_kwh    0.752893\n",
       "dtype: float64"
      ]
     },
     "execution_count": 12,
     "metadata": {},
     "output_type": "execute_result"
    }
   ],
   "source": [
    "# Check missing values\n",
    "consumption.isnull().mean()"
   ]
  },
  {
   "cell_type": "code",
   "execution_count": 13,
   "id": "aab5cde3",
   "metadata": {},
   "outputs": [],
   "source": [
    "# Replace NaN of pv_actual_kwh by 0\n",
    "consumption['pv_actual_kwh'] = consumption['pv_actual_kwh'].replace(np.nan, 0)\n",
    "\n",
    "# Create a feature 'consumption' as the sum of the consumption and solar generated power\n",
    "consumption['consumption'] = consumption['p1_actual_kwh'] + consumption['pv_actual_kwh']"
   ]
  },
  {
   "cell_type": "code",
   "execution_count": 14,
   "id": "ffebc8f6",
   "metadata": {},
   "outputs": [
    {
     "data": {
      "text/plain": [
       "<AxesSubplot:>"
      ]
     },
     "execution_count": 14,
     "metadata": {},
     "output_type": "execute_result"
    },
    {
     "data": {
      "image/png": "[encoded data removed]",
      "text/plain": [
       "<Figure size 432x288 with 1 Axes>"
      ]
     },
     "metadata": {
      "needs_background": "light"
     },
     "output_type": "display_data"
    }
   ],
   "source": [
    "consumption.consumption.plot.box()"
   ]
  },
  {
   "cell_type": "code",
   "execution_count": 15,
   "id": "12a98977",
   "metadata": {},
   "outputs": [
    {
     "data": {
      "text/html": [
       "<div>\n",
       "<style scoped>\n",
       "    .dataframe tbody tr th:only-of-type {\n",
       "        vertical-align: middle;\n",
       "    }\n",
       "\n",
       "    .dataframe tbody tr th {\n",
       "        vertical-align: top;\n",
       "    }\n",
       "\n",
       "    .dataframe thead th {\n",
       "        text-align: right;\n",
       "    }\n",
       "</style>\n",
       "<table border=\"1\" class=\"dataframe\">\n",
       "  <thead>\n",
       "    <tr style=\"text-align: right;\">\n",
       "      <th></th>\n",
       "      <th>contract_id</th>\n",
       "      <th>timestamp</th>\n",
       "      <th>p1_actual_kwh</th>\n",
       "      <th>pv_actual_kwh</th>\n",
       "      <th>consumption</th>\n",
       "    </tr>\n",
       "  </thead>\n",
       "  <tbody>\n",
       "    <tr>\n",
       "      <th>775</th>\n",
       "      <td>105587</td>\n",
       "      <td>2022-12-09 01:45:00</td>\n",
       "      <td>1414444.0</td>\n",
       "      <td>0.000000</td>\n",
       "      <td>1.414444e+06</td>\n",
       "    </tr>\n",
       "    <tr>\n",
       "      <th>2160</th>\n",
       "      <td>105587</td>\n",
       "      <td>2022-12-23 12:00:00</td>\n",
       "      <td>99999.0</td>\n",
       "      <td>13.083333</td>\n",
       "      <td>1.000121e+05</td>\n",
       "    </tr>\n",
       "    <tr>\n",
       "      <th>7293</th>\n",
       "      <td>128443</td>\n",
       "      <td>2022-12-13 09:15:00</td>\n",
       "      <td>-28121994.0</td>\n",
       "      <td>34.083333</td>\n",
       "      <td>-2.812196e+07</td>\n",
       "    </tr>\n",
       "  </tbody>\n",
       "</table>\n",
       "</div>"
      ],
      "text/plain": [
       "      contract_id           timestamp  p1_actual_kwh  pv_actual_kwh  \\\n",
       "775        105587 2022-12-09 01:45:00      1414444.0       0.000000   \n",
       "2160       105587 2022-12-23 12:00:00        99999.0      13.083333   \n",
       "7293       128443 2022-12-13 09:15:00    -28121994.0      34.083333   \n",
       "\n",
       "       consumption  \n",
       "775   1.414444e+06  \n",
       "2160  1.000121e+05  \n",
       "7293 -2.812196e+07  "
      ]
     },
     "execution_count": 15,
     "metadata": {},
     "output_type": "execute_result"
    }
   ],
   "source": [
    "# there are extreme values compared to others, are they outliers?\n",
    "# look at extreme ones\n",
    "threshold = 5*10e3\n",
    "outliers = consumption[(consumption.consumption < -threshold) | (consumption.consumption > threshold)]\n",
    "outliers"
   ]
  },
  {
   "cell_type": "code",
   "execution_count": 16,
   "id": "14ba67e3",
   "metadata": {},
   "outputs": [],
   "source": [
    "# remove outliers\n",
    "consumption_cleaned = consumption[(consumption.consumption > -threshold) & \\\n",
    "                                  (consumption.consumption < threshold)].copy()"
   ]
  },
  {
   "cell_type": "markdown",
   "id": "19dba723",
   "metadata": {},
   "source": [
    "### Number of data per household"
   ]
  },
  {
   "cell_type": "code",
   "execution_count": 17,
   "id": "09ff5321",
   "metadata": {},
   "outputs": [
    {
     "name": "stdout",
     "output_type": "stream",
     "text": [
      "The contract with the maximum number of data has 4416 data points.\n",
      "The contract with the minimum number of data has 4 data points.\n"
     ]
    }
   ],
   "source": [
    "# list of the number of data per customer\n",
    "data_per_contract = [consumption.contract_id.value_counts()[i] for i in set(consumption.contract_id)]\n",
    "print(\"The contract with the maximum number of data has {} data points.\".format(max(data_per_contract)))\n",
    "print(\"The contract with the minimum number of data has {} data points.\".format(min(data_per_contract)))"
   ]
  },
  {
   "cell_type": "markdown",
   "id": "5ab135df",
   "metadata": {},
   "source": [
    "We can see that houses are inequally represented in the dataset."
   ]
  },
  {
   "cell_type": "markdown",
   "id": "9395afae",
   "metadata": {},
   "source": [
    "### Relation between consumption and time of the day\n",
    "We are now interested in looking at the hourly average consumption on a household. To do so, we need to remove the generated solar power from our equation. We estimate this by removing from the dataset the household which have solar panels not installed with Zonneplan since we don't know the exact solar power generated for these households (estimated earlier)."
   ]
  },
  {
   "cell_type": "code",
   "execution_count": 18,
   "id": "f9929a9f",
   "metadata": {},
   "outputs": [],
   "source": [
    "# Remove (estimated) customers with solar panels not installed with Zonneplan\n",
    "consumption_zp = consumption_cleaned[~consumption_cleaned.contract_id.isin(pv_wo_zp_contract)]"
   ]
  },
  {
   "cell_type": "code",
   "execution_count": 19,
   "id": "e95357ba",
   "metadata": {},
   "outputs": [
    {
     "data": {
      "text/html": [
       "<div>\n",
       "<style scoped>\n",
       "    .dataframe tbody tr th:only-of-type {\n",
       "        vertical-align: middle;\n",
       "    }\n",
       "\n",
       "    .dataframe tbody tr th {\n",
       "        vertical-align: top;\n",
       "    }\n",
       "\n",
       "    .dataframe thead th {\n",
       "        text-align: right;\n",
       "    }\n",
       "</style>\n",
       "<table border=\"1\" class=\"dataframe\">\n",
       "  <thead>\n",
       "    <tr style=\"text-align: right;\">\n",
       "      <th></th>\n",
       "      <th>contract_id</th>\n",
       "      <th>timestamp</th>\n",
       "      <th>p1_actual_kwh</th>\n",
       "      <th>pv_actual_kwh</th>\n",
       "      <th>consumption</th>\n",
       "    </tr>\n",
       "  </thead>\n",
       "  <tbody>\n",
       "    <tr>\n",
       "      <th>809</th>\n",
       "      <td>105587</td>\n",
       "      <td>2022-12-09 10:15:00</td>\n",
       "      <td>-80.0</td>\n",
       "      <td>73.833333</td>\n",
       "      <td>-6.166667</td>\n",
       "    </tr>\n",
       "    <tr>\n",
       "      <th>1111</th>\n",
       "      <td>105587</td>\n",
       "      <td>2022-12-12 13:45:00</td>\n",
       "      <td>-89.0</td>\n",
       "      <td>88.333333</td>\n",
       "      <td>-0.666667</td>\n",
       "    </tr>\n",
       "    <tr>\n",
       "      <th>1291</th>\n",
       "      <td>105587</td>\n",
       "      <td>2022-12-14 10:45:00</td>\n",
       "      <td>-578.0</td>\n",
       "      <td>485.750000</td>\n",
       "      <td>-92.250000</td>\n",
       "    </tr>\n",
       "    <tr>\n",
       "      <th>1768</th>\n",
       "      <td>105587</td>\n",
       "      <td>2022-12-19 10:00:00</td>\n",
       "      <td>52.0</td>\n",
       "      <td>-100.000000</td>\n",
       "      <td>-48.000000</td>\n",
       "    </tr>\n",
       "    <tr>\n",
       "      <th>1972</th>\n",
       "      <td>105587</td>\n",
       "      <td>2022-12-21 13:00:00</td>\n",
       "      <td>-122.0</td>\n",
       "      <td>108.083333</td>\n",
       "      <td>-13.916667</td>\n",
       "    </tr>\n",
       "  </tbody>\n",
       "</table>\n",
       "</div>"
      ],
      "text/plain": [
       "      contract_id           timestamp  p1_actual_kwh  pv_actual_kwh  \\\n",
       "809        105587 2022-12-09 10:15:00          -80.0      73.833333   \n",
       "1111       105587 2022-12-12 13:45:00          -89.0      88.333333   \n",
       "1291       105587 2022-12-14 10:45:00         -578.0     485.750000   \n",
       "1768       105587 2022-12-19 10:00:00           52.0    -100.000000   \n",
       "1972       105587 2022-12-21 13:00:00         -122.0     108.083333   \n",
       "\n",
       "      consumption  \n",
       "809     -6.166667  \n",
       "1111    -0.666667  \n",
       "1291   -92.250000  \n",
       "1768   -48.000000  \n",
       "1972   -13.916667  "
      ]
     },
     "execution_count": 19,
     "metadata": {},
     "output_type": "execute_result"
    }
   ],
   "source": [
    "consumption_zp[consumption_zp.consumption < 0].head()"
   ]
  },
  {
   "cell_type": "markdown",
   "id": "14a8e729",
   "metadata": {},
   "source": [
    "The customer '105587' feed in 578 kwh a certain time but produced only 485 kwh. It means that this customer has an source of energy."
   ]
  },
  {
   "cell_type": "code",
   "execution_count": 20,
   "id": "89f60531",
   "metadata": {},
   "outputs": [],
   "source": [
    "# Group the data by contract_id and date, and calculate the average power per contract\n",
    "averaged = consumption_zp.groupby(['contract_id', consumption_zp['timestamp'].dt.hour]) \\\n",
    "['consumption'].mean()\n",
    "\n",
    "# Convert the grouped data back to a dataframe\n",
    "averaged = averaged.reset_index()"
   ]
  },
  {
   "cell_type": "code",
   "execution_count": 21,
   "id": "30b82a7b",
   "metadata": {},
   "outputs": [
    {
     "data": {
      "image/png": "[encoded data removed]",
      "text/plain": [
       "<Figure size 864x576 with 1 Axes>"
      ]
     },
     "metadata": {
      "needs_background": "light"
     },
     "output_type": "display_data"
    }
   ],
   "source": [
    "ax = averaged.boxplot(column='consumption', by='timestamp', figsize=(12,8))\n",
    "title_boxplot = 'Distribution of the average consumption of each household during the day'\n",
    "plt.title( title_boxplot )\n",
    "plt.suptitle('')\n",
    "ax.set_xlabel(\"Hour of the day\")\n",
    "ax.set_ylabel(\"Average consumption per contract (kwh)\")\n",
    "plt.show()"
   ]
  },
  {
   "cell_type": "markdown",
   "id": "8cb45577",
   "metadata": {},
   "source": [
    "We notice negative values. This confirms that some customer have solar panels which are not from Zonneplan."
   ]
  },
  {
   "cell_type": "code",
   "execution_count": 22,
   "id": "c0c43863",
   "metadata": {},
   "outputs": [
    {
     "data": {
      "text/plain": [
       "(0.0, 260.0)"
      ]
     },
     "execution_count": 22,
     "metadata": {},
     "output_type": "execute_result"
    },
    {
     "data": {
      "image/png": "[encoded data removed]",
      "text/plain": [
       "<Figure size 432x288 with 1 Axes>"
      ]
     },
     "metadata": {
      "needs_background": "light"
     },
     "output_type": "display_data"
    }
   ],
   "source": [
    "averaged.groupby('timestamp')['consumption'].mean().plot(title = 'Average consumption per hour')\n",
    "plt.ylim((0,260))"
   ]
  },
  {
   "cell_type": "markdown",
   "id": "1d450a04",
   "metadata": {},
   "source": [
    "Logically we notice that the average consumption  varies largely during the day. There is a lower consumption around 4am and and 5am, and a high peak around 4pm and 5pm. The higher consumption might be partly explained by the fact that people are coming back home (and maybe need to warm up the house - the data is from December)."
   ]
  },
  {
   "cell_type": "markdown",
   "id": "8e06807d",
   "metadata": {},
   "source": [
    "### Relation between consumption and day of the week"
   ]
  },
  {
   "cell_type": "code",
   "execution_count": 23,
   "id": "85e4544f",
   "metadata": {},
   "outputs": [],
   "source": [
    "# Group the data by contract_id and date, and calculate the average power per contract\n",
    "averaged = consumption_zp.groupby(['contract_id', consumption_zp['timestamp'].dt.weekday]) \\\n",
    "['consumption'].mean()\n",
    "\n",
    "# Convert the grouped data back to a dataframe\n",
    "averaged = averaged.reset_index()"
   ]
  },
  {
   "cell_type": "code",
   "execution_count": 24,
   "id": "8a4a98fe",
   "metadata": {},
   "outputs": [
    {
     "data": {
      "image/png": "[encoded data removed]",
      "text/plain": [
       "<Figure size 864x576 with 1 Axes>"
      ]
     },
     "metadata": {
      "needs_background": "light"
     },
     "output_type": "display_data"
    }
   ],
   "source": [
    "ax = averaged.boxplot(column='consumption', by='timestamp', figsize=(12,8))\n",
    "title_boxplot = 'boxplot of the average consumption per contract during the week'\n",
    "plt.title(title_boxplot )\n",
    "plt.suptitle('')\n",
    "ax.set_xlabel('')\n",
    "ax.set_ylabel(\"Average consumption per contract (kwh)\")\n",
    "plt.xticks(range(8), labels= ['', 'Monday', 'Tuesday', 'Wednesday', 'Thursday', 'Friday', 'Saturday', 'Sunday'])\n",
    "plt.show()"
   ]
  },
  {
   "cell_type": "markdown",
   "id": "c802add0",
   "metadata": {},
   "source": [
    "### Relation between consumption and energy price\n",
    "**Observations:**\n",
    "* The fact that customers consume less when price is higher is not obvisous here. Further investigation is needed to analysis the relationship between price and consumption. For intance, a further analysis may highlight 2 \"extreme\" type of customer: those adjusting their consumption as much as possible with price fluctuation and those you are not careful at all about it. One way to analysis could be by analysis the correlation, per customer, between the consumption and the price."
   ]
  },
  {
   "cell_type": "code",
   "execution_count": 25,
   "id": "fe6597a5",
   "metadata": {},
   "outputs": [
    {
     "data": {
      "text/html": [
       "<div>\n",
       "<style scoped>\n",
       "    .dataframe tbody tr th:only-of-type {\n",
       "        vertical-align: middle;\n",
       "    }\n",
       "\n",
       "    .dataframe tbody tr th {\n",
       "        vertical-align: top;\n",
       "    }\n",
       "\n",
       "    .dataframe thead th {\n",
       "        text-align: right;\n",
       "    }\n",
       "</style>\n",
       "<table border=\"1\" class=\"dataframe\">\n",
       "  <thead>\n",
       "    <tr style=\"text-align: right;\">\n",
       "      <th></th>\n",
       "      <th>timestamp</th>\n",
       "      <th>price_epex</th>\n",
       "    </tr>\n",
       "  </thead>\n",
       "  <tbody>\n",
       "    <tr>\n",
       "      <th>0</th>\n",
       "      <td>2022-12-08 00:00:00</td>\n",
       "      <td>0.284</td>\n",
       "    </tr>\n",
       "    <tr>\n",
       "      <th>1</th>\n",
       "      <td>2022-12-08 00:15:00</td>\n",
       "      <td>0.284</td>\n",
       "    </tr>\n",
       "    <tr>\n",
       "      <th>2</th>\n",
       "      <td>2022-12-08 00:30:00</td>\n",
       "      <td>0.284</td>\n",
       "    </tr>\n",
       "    <tr>\n",
       "      <th>3</th>\n",
       "      <td>2022-12-08 00:45:00</td>\n",
       "      <td>0.284</td>\n",
       "    </tr>\n",
       "    <tr>\n",
       "      <th>4</th>\n",
       "      <td>2022-12-08 01:00:00</td>\n",
       "      <td>0.273</td>\n",
       "    </tr>\n",
       "  </tbody>\n",
       "</table>\n",
       "</div>"
      ],
      "text/plain": [
       "            timestamp  price_epex\n",
       "0 2022-12-08 00:00:00       0.284\n",
       "1 2022-12-08 00:15:00       0.284\n",
       "2 2022-12-08 00:30:00       0.284\n",
       "3 2022-12-08 00:45:00       0.284\n",
       "4 2022-12-08 01:00:00       0.273"
      ]
     },
     "execution_count": 25,
     "metadata": {},
     "output_type": "execute_result"
    }
   ],
   "source": [
    "prices.head()"
   ]
  },
  {
   "cell_type": "code",
   "execution_count": 26,
   "id": "68ae3868",
   "metadata": {},
   "outputs": [
    {
     "data": {
      "text/plain": [
       "Timestamp('2022-12-08 00:00:00')"
      ]
     },
     "execution_count": 26,
     "metadata": {},
     "output_type": "execute_result"
    }
   ],
   "source": [
    "prices.timestamp.min()"
   ]
  },
  {
   "cell_type": "code",
   "execution_count": 27,
   "id": "0efccbf1",
   "metadata": {},
   "outputs": [
    {
     "data": {
      "text/plain": [
       "Timestamp('2023-01-08 23:45:00')"
      ]
     },
     "execution_count": 27,
     "metadata": {},
     "output_type": "execute_result"
    }
   ],
   "source": [
    "prices.timestamp.max()"
   ]
  },
  {
   "cell_type": "code",
   "execution_count": 28,
   "id": "bcf1e30d",
   "metadata": {},
   "outputs": [
    {
     "data": {
      "text/plain": [
       "timestamp     0.0\n",
       "price_epex    0.0\n",
       "dtype: float64"
      ]
     },
     "execution_count": 28,
     "metadata": {},
     "output_type": "execute_result"
    }
   ],
   "source": [
    "prices.isnull().mean()"
   ]
  },
  {
   "cell_type": "code",
   "execution_count": 29,
   "id": "d28559c6",
   "metadata": {},
   "outputs": [
    {
     "ename": "KeyError",
     "evalue": "'Column not found: consumption'",
     "output_type": "error",
     "traceback": [
      "\u001b[0;31m---------------------------------------------------------------------------\u001b[0m",
      "\u001b[0;31mKeyError\u001b[0m                                  Traceback (most recent call last)",
      "Input \u001b[0;32mIn [29]\u001b[0m, in \u001b[0;36m<cell line: 9>\u001b[0;34m()\u001b[0m\n\u001b[1;32m      7\u001b[0m ax2\u001b[38;5;241m=\u001b[39max\u001b[38;5;241m.\u001b[39mtwinx()\n\u001b[1;32m      8\u001b[0m cons_wo_pv \u001b[38;5;241m=\u001b[39m values_actual[\u001b[38;5;241m~\u001b[39mvalues_actual\u001b[38;5;241m.\u001b[39mcontract_id\u001b[38;5;241m.\u001b[39misin(customer_w_pv)]\n\u001b[0;32m----> 9\u001b[0m cons_wo_pv \u001b[38;5;241m=\u001b[39m \u001b[43mcons_wo_pv\u001b[49m\u001b[38;5;241;43m.\u001b[39;49m\u001b[43mgroupby\u001b[49m\u001b[43m(\u001b[49m\u001b[43m[\u001b[49m\u001b[43mcons_wo_pv\u001b[49m\u001b[43m[\u001b[49m\u001b[38;5;124;43m'\u001b[39;49m\u001b[38;5;124;43mtimestamp\u001b[39;49m\u001b[38;5;124;43m'\u001b[39;49m\u001b[43m]\u001b[49m\u001b[43m]\u001b[49m\u001b[43m)\u001b[49m\u001b[43m[\u001b[49m\u001b[38;5;124;43m'\u001b[39;49m\u001b[38;5;124;43mconsumption\u001b[39;49m\u001b[38;5;124;43m'\u001b[39;49m\u001b[43m]\u001b[49m\u001b[38;5;241m.\u001b[39mmean()\n\u001b[1;32m     10\u001b[0m ax2\u001b[38;5;241m.\u001b[39mplot(cons_wo_pv\u001b[38;5;241m.\u001b[39mindex, cons_wo_pv\u001b[38;5;241m.\u001b[39mvalues, color \u001b[38;5;241m=\u001b[39m \u001b[38;5;124m'\u001b[39m\u001b[38;5;124mred\u001b[39m\u001b[38;5;124m'\u001b[39m, linewidth\u001b[38;5;241m=\u001b[39m\u001b[38;5;241m0.5\u001b[39m)\n\u001b[1;32m     11\u001b[0m ax2\u001b[38;5;241m.\u001b[39mset_ylabel(\u001b[38;5;124m\"\u001b[39m\u001b[38;5;124maverage consumption\u001b[39m\u001b[38;5;124m\"\u001b[39m,fontsize\u001b[38;5;241m=\u001b[39m\u001b[38;5;241m14\u001b[39m, color \u001b[38;5;241m=\u001b[39m \u001b[38;5;124m'\u001b[39m\u001b[38;5;124mred\u001b[39m\u001b[38;5;124m'\u001b[39m)\n",
      "File \u001b[0;32m~/Documents/Career/MyProjects/notebooks/jupyterenv/lib/python3.10/site-packages/pandas/core/groupby/generic.py:1338\u001b[0m, in \u001b[0;36mDataFrameGroupBy.__getitem__\u001b[0;34m(self, key)\u001b[0m\n\u001b[1;32m   1329\u001b[0m \u001b[38;5;28;01mif\u001b[39;00m \u001b[38;5;28misinstance\u001b[39m(key, \u001b[38;5;28mtuple\u001b[39m) \u001b[38;5;129;01mand\u001b[39;00m \u001b[38;5;28mlen\u001b[39m(key) \u001b[38;5;241m>\u001b[39m \u001b[38;5;241m1\u001b[39m:\n\u001b[1;32m   1330\u001b[0m     \u001b[38;5;66;03m# if len == 1, then it becomes a SeriesGroupBy and this is actually\u001b[39;00m\n\u001b[1;32m   1331\u001b[0m     \u001b[38;5;66;03m# valid syntax, so don't raise warning\u001b[39;00m\n\u001b[1;32m   1332\u001b[0m     warnings\u001b[38;5;241m.\u001b[39mwarn(\n\u001b[1;32m   1333\u001b[0m         \u001b[38;5;124m\"\u001b[39m\u001b[38;5;124mIndexing with multiple keys (implicitly converted to a tuple \u001b[39m\u001b[38;5;124m\"\u001b[39m\n\u001b[1;32m   1334\u001b[0m         \u001b[38;5;124m\"\u001b[39m\u001b[38;5;124mof keys) will be deprecated, use a list instead.\u001b[39m\u001b[38;5;124m\"\u001b[39m,\n\u001b[1;32m   1335\u001b[0m         \u001b[38;5;167;01mFutureWarning\u001b[39;00m,\n\u001b[1;32m   1336\u001b[0m         stacklevel\u001b[38;5;241m=\u001b[39mfind_stack_level(),\n\u001b[1;32m   1337\u001b[0m     )\n\u001b[0;32m-> 1338\u001b[0m \u001b[38;5;28;01mreturn\u001b[39;00m \u001b[38;5;28;43msuper\u001b[39;49m\u001b[43m(\u001b[49m\u001b[43m)\u001b[49m\u001b[38;5;241;43m.\u001b[39;49m\u001b[38;5;21;43m__getitem__\u001b[39;49m\u001b[43m(\u001b[49m\u001b[43mkey\u001b[49m\u001b[43m)\u001b[49m\n",
      "File \u001b[0;32m~/Documents/Career/MyProjects/notebooks/jupyterenv/lib/python3.10/site-packages/pandas/core/base.py:250\u001b[0m, in \u001b[0;36mSelectionMixin.__getitem__\u001b[0;34m(self, key)\u001b[0m\n\u001b[1;32m    248\u001b[0m \u001b[38;5;28;01melse\u001b[39;00m:\n\u001b[1;32m    249\u001b[0m     \u001b[38;5;28;01mif\u001b[39;00m key \u001b[38;5;129;01mnot\u001b[39;00m \u001b[38;5;129;01min\u001b[39;00m \u001b[38;5;28mself\u001b[39m\u001b[38;5;241m.\u001b[39mobj:\n\u001b[0;32m--> 250\u001b[0m         \u001b[38;5;28;01mraise\u001b[39;00m \u001b[38;5;167;01mKeyError\u001b[39;00m(\u001b[38;5;124mf\u001b[39m\u001b[38;5;124m\"\u001b[39m\u001b[38;5;124mColumn not found: \u001b[39m\u001b[38;5;132;01m{\u001b[39;00mkey\u001b[38;5;132;01m}\u001b[39;00m\u001b[38;5;124m\"\u001b[39m)\n\u001b[1;32m    251\u001b[0m     subset \u001b[38;5;241m=\u001b[39m \u001b[38;5;28mself\u001b[39m\u001b[38;5;241m.\u001b[39mobj[key]\n\u001b[1;32m    252\u001b[0m     ndim \u001b[38;5;241m=\u001b[39m subset\u001b[38;5;241m.\u001b[39mndim\n",
      "\u001b[0;31mKeyError\u001b[0m: 'Column not found: consumption'"
     ]
    },
    {
     "data": {
      "image/png": "[encoded data removed]",
      "text/plain": [
       "<Figure size 1296x360 with 2 Axes>"
      ]
     },
     "metadata": {
      "needs_background": "light"
     },
     "output_type": "display_data"
    }
   ],
   "source": [
    "# Create plot for price\n",
    "fig,ax = plt.subplots(figsize=(18,5))\n",
    "ax.plot(prices.timestamp, prices.price_epex, color = 'blue')\n",
    "ax.set_ylabel(\"prices epex\",fontsize=14, color = 'blue')\n",
    "\n",
    "# Add plot for consumption (without solar panel)\n",
    "ax2=ax.twinx()\n",
    "cons_wo_pv = values_actual[~values_actual.contract_id.isin(customer_w_pv)]\n",
    "cons_wo_pv = cons_wo_pv.groupby([cons_wo_pv['timestamp']])['consumption'].mean()\n",
    "ax2.plot(cons_wo_pv.index, cons_wo_pv.values, color = 'red', linewidth=0.5)\n",
    "ax2.set_ylabel(\"average consumption\",fontsize=14, color = 'red')\n",
    "\n",
    "# Set limit to x-axis\n",
    "min_date = cons_wo_pv.index.min()\n",
    "max_date = cons_wo_pv.index.max()\n",
    "plt.xlim((min_date, max_date))"
   ]
  },
  {
   "cell_type": "markdown",
   "id": "a586f952",
   "metadata": {},
   "source": [
    "The fact that customers consume less when price is higher is not obvisous here. Further investigation is needed to analysis the relationship between price and consumption."
   ]
  },
  {
   "cell_type": "code",
   "execution_count": null,
   "id": "9aa0e6ce",
   "metadata": {},
   "outputs": [],
   "source": [
    "# We want to look at the relatin between the energy consumption and  the energy price.\n",
    "# To do so, we need to concatenate the consumption data with the price data based on the timestamp"
   ]
  },
  {
   "cell_type": "code",
   "execution_count": null,
   "id": "eb81bab4",
   "metadata": {},
   "outputs": [],
   "source": [
    "ax = prices.boxplot(column='price_epex', by=[prices['timestamp'].dt.hour], figsize=(12,8))\n",
    "plt.suptitle('')\n",
    "ax.set_xlabel(\"Hour of the day\")"
   ]
  },
  {
   "cell_type": "code",
   "execution_count": null,
   "id": "d0173b13",
   "metadata": {},
   "outputs": [],
   "source": [
    "# Average consumption at a given time\n",
    "averaged_consumption = consumption_cleaned[['timestamp', 'consumption']].groupby(consumption_cleaned['timestamp']) \\\n",
    "['consumption'].mean()"
   ]
  },
  {
   "cell_type": "code",
   "execution_count": null,
   "id": "136f4655",
   "metadata": {},
   "outputs": [],
   "source": [
    "# Dataframe merging the consumption and prices\n",
    "merged = pd.concat([prices.set_index('timestamp'), averaged_consumption], axis=1)\n",
    "merged.dropna(inplace=True)"
   ]
  },
  {
   "cell_type": "code",
   "execution_count": null,
   "id": "47924ba3",
   "metadata": {},
   "outputs": [],
   "source": [
    "# Scatter plot to visualize the relation between price and consumption\n",
    "ax = merged.plot.scatter(x='price_epex', y='consumption', figsize=(12,8))\n",
    "ax.set_ylabel(\"Average consumption per contract (kwh)\")\n",
    "plt.show()"
   ]
  },
  {
   "cell_type": "markdown",
   "id": "58e00d4f",
   "metadata": {},
   "source": [
    "TO DO:\n",
    "* we know that some customer have solar panel. So we could look at the consumption of househol without solar panel. But this is tricky because we don't know all houses without soalr panels. mayb the power generated my solar panel could be substracted from p1... What is the proportion of customer with solar panel not from Zonneplan?"
   ]
  },
  {
   "cell_type": "markdown",
   "id": "a0df5ae8",
   "metadata": {},
   "source": [
    "# Solar Power Generation"
   ]
  },
  {
   "cell_type": "markdown",
   "id": "0dd62214",
   "metadata": {},
   "source": [
    "**Obervations:**\n",
    "* Limited available data: only 22 days of data available (thus a bit more than 3 weeks -> 3*7 = 21 data point at best per quarter of hour per household). Rather than looking forecasting the power generation of each household individually we can look at the average.\n",
    "* The data available is during the month of Decembre. There was a large **number of new customers** during this period. This needs to be considered"
   ]
  },
  {
   "cell_type": "code",
   "execution_count": null,
   "id": "789a50fb",
   "metadata": {},
   "outputs": [],
   "source": [
    "pv_power = values_actual[['contract_id', 'timestamp', 'pv_actual_kwh', 'pv_forecast_kwh']]"
   ]
  },
  {
   "cell_type": "code",
   "execution_count": null,
   "id": "0fd71129",
   "metadata": {},
   "outputs": [],
   "source": [
    "pv_power.head()"
   ]
  },
  {
   "cell_type": "code",
   "execution_count": null,
   "id": "191d00d6",
   "metadata": {},
   "outputs": [],
   "source": [
    "pv_power.isnull().mean()"
   ]
  },
  {
   "cell_type": "code",
   "execution_count": null,
   "id": "4cfd9a55",
   "metadata": {},
   "outputs": [],
   "source": [
    "pv_power.describe()"
   ]
  },
  {
   "cell_type": "code",
   "execution_count": null,
   "id": "9637c8fa",
   "metadata": {},
   "outputs": [],
   "source": [
    "# Negative values are outliers, let's remove them\n",
    "pv_power = pv_power[pv_power.pv_actual_kwh > 0].copy()"
   ]
  },
  {
   "cell_type": "code",
   "execution_count": null,
   "id": "b74493ee",
   "metadata": {},
   "outputs": [],
   "source": [
    "print('time delta tof the data:')\n",
    "pv_power.timestamp.max() - pv_power.timestamp.min()"
   ]
  },
  {
   "cell_type": "code",
   "execution_count": null,
   "id": "1bcb5e2b",
   "metadata": {},
   "outputs": [],
   "source": [
    "pv_power['hour'] = [time.hour for time in pv_power.timestamp.tolist()]"
   ]
  },
  {
   "cell_type": "code",
   "execution_count": null,
   "id": "4a687081",
   "metadata": {},
   "outputs": [],
   "source": [
    "pv_power.boxplot(column='pv_actual_kwh', by='hour', figsize=(12,8))"
   ]
  },
  {
   "cell_type": "markdown",
   "id": "86169308",
   "metadata": {},
   "source": [
    "## Look at the current difference between the forecast and actual solar power data"
   ]
  },
  {
   "cell_type": "code",
   "execution_count": null,
   "id": "7baa20b4",
   "metadata": {},
   "outputs": [],
   "source": [
    "# Keep data where both pv_actual_kwh and pv_forecast_kwh are not null\n",
    "diff_pv_power = pv_power.loc[(~pv_power.pv_actual_kwh.isnull()) & \\\n",
    "                                      (~pv_power.pv_forecast_kwh.isnull())].copy()"
   ]
  },
  {
   "cell_type": "code",
   "execution_count": null,
   "id": "e7db6d6b",
   "metadata": {},
   "outputs": [],
   "source": [
    "diff_pv_power[['pv_actual_kwh', 'pv_forecast_kwh']].plot(kind='density', xlim = {0, 2000})"
   ]
  },
  {
   "cell_type": "code",
   "execution_count": null,
   "id": "00d0f3e6",
   "metadata": {},
   "outputs": [],
   "source": [
    "diff_pv_power['diff'] = (diff_pv_power.pv_actual_kwh - diff_pv_power.pv_forecast_kwh)"
   ]
  },
  {
   "cell_type": "code",
   "execution_count": null,
   "id": "c00b2c5e",
   "metadata": {},
   "outputs": [],
   "source": [
    "# convert per hour and check the fluctuation\n",
    "diff_pv_power['hour'] = [time.hour for time in diff_pv_power.timestamp.tolist()]"
   ]
  },
  {
   "cell_type": "code",
   "execution_count": null,
   "id": "cb2d7ad2",
   "metadata": {},
   "outputs": [],
   "source": [
    "diff_pv_power.boxplot(column='diff', by='hour', figsize=(12,8))"
   ]
  },
  {
   "cell_type": "markdown",
   "id": "28133fb4",
   "metadata": {},
   "source": [
    "# Forecast\n",
    "**Methods:**\n",
    "* Naive methods: Average previous consumption off all households together by considering feature like time\n",
    "* Conidering additional pv input: Predict the solar production for household with solar without Zonneplan\n",
    "* fine-tune per customer: create model per customer"
   ]
  },
  {
   "cell_type": "markdown",
   "id": "041d6959",
   "metadata": {},
   "source": [
    "# Challenges\n",
    "* Combination of households with solar panels installed by Zonneplan and not with Zonneplan: some household have energy sources we are not aware of. They can be identified by having negative values of consumption."
   ]
  },
  {
   "cell_type": "markdown",
   "id": "77e375e1",
   "metadata": {},
   "source": [
    "# Possible next steps¶\n",
    "* Look at possible clusters: based on infrastructure (with or withut solar panels), consumption behavior pattern (households consuming more at certain time than other householads, and less at certain time), cluster of location\n",
    "* Consideration of additional solar power data: size and tild of the solar panels\n",
    "* Classification of customer with/without solar panels: using other data sources? Solar panels detection from satellites images?\n",
    "* Look at other data set like Kaggle\n",
    "\n",
    "To improve this prediction in the coming months, we will continue to collect and analyze historical data and update our models accordingly. We will also explore other forecasting methods, such as the Prophet model developed by Facebook, and machine learning techniques, such as random forests and neural networks.\n",
    "\n",
    "One aspect that could have been better is the data cleaning and preprocessing. There were some missing values and inconsistencies in the data that needed to be addressed before we could create an accurate forecast. In the future, we will need to ensure that we have clean and consistent data before proceeding with the forecasting process.\n",
    "\n",
    "Another area for improvement is the incorporation of external factors that could impact consumption, such as holidays, events, and changes in government policies. By including these factors in our forecasting models, we can create more accurate and robust predictions for our energy portfolio."
   ]
  },
  {
   "cell_type": "code",
   "execution_count": null,
   "id": "1c7844dd",
   "metadata": {},
   "outputs": [],
   "source": [
    "def remove_outliers_zscore(data, threshold=3):\n",
    "    \"\"\"\n",
    "    Removes outliers from a time series using the Z-score method.\n",
    "    \n",
    "    Parameters:\n",
    "    data (np.ndarray): The time series data.\n",
    "    threshold (float): The Z-score threshold for identifying outliers. Defaults to 3.\n",
    "    \n",
    "    Returns:\n",
    "    np.ndarray: The time series data with outliers removed.\n",
    "    \"\"\"\n",
    "    z_scores = np.abs((data - np.mean(data)) / np.std(data))\n",
    "    mask = z_scores < threshold\n",
    "    return data[mask]"
   ]
  }
 ],
 "metadata": {
  "kernelspec": {
   "display_name": "Python 3 (ipykernel)",
   "language": "python",
   "name": "python3"
  },
  "language_info": {
   "codemirror_mode": {
    "name": "ipython",
    "version": 3
   },
   "file_extension": ".py",
   "mimetype": "text/x-python",
   "name": "python",
   "nbconvert_exporter": "python",
   "pygments_lexer": "ipython3",
   "version": "3.10.6"
  }
 },
 "nbformat": 4,
 "nbformat_minor": 5
}
